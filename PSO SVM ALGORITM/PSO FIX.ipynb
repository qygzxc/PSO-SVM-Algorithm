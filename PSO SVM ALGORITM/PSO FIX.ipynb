{
 "cells": [
  {
   "cell_type": "code",
   "execution_count": 1,
   "metadata": {},
   "outputs": [
    {
     "name": "stdout",
     "output_type": "stream",
     "text": [
      "Inform the number of iterations: 100\n",
      "Inform the target error: 1e-6\n",
      "Inform the number of particles: 20\n"
     ]
    }
   ],
   "source": [
    "#################### I N P U T ####################\n",
    "\n",
    "import random\n",
    "import numpy as np \n",
    "\n",
    "W = 0.5\n",
    "c1 = 0.8\n",
    "c2 = 0.9 \n",
    "\n",
    "n_iterations = int(input(\"Inform the number of iterations: \"))\n",
    "target_error = float(input(\"Inform the target error: \"))\n",
    "n_particles = int(input(\"Inform the number of particles: \"))"
   ]
  },
  {
   "cell_type": "code",
   "execution_count": 5,
   "metadata": {
    "collapsed": true
   },
   "outputs": [],
   "source": [
    "class Particle():\n",
    "    def __init__(self):\n",
    "        self.position = np.array([(-1) ** (bool(random.getrandbits(1))) * random.random()*50, (-1)**(bool(random.getrandbits(1))) * random.random()*50])\n",
    "        self.pbest_position = self.position\n",
    "        self.pbest_value = float('inf')\n",
    "        self.velocity = np.array([0,0])\n",
    "    \n",
    "    def move(self):\n",
    "        self.position = self.position + self.velocity"
   ]
  },
  {
   "cell_type": "code",
   "execution_count": 6,
   "metadata": {
    "collapsed": true
   },
   "outputs": [],
   "source": [
    "class Space():\n",
    "\n",
    "    def __init__(self, target, target_error, n_particles):\n",
    "        self.target = target\n",
    "        self.target_error = target_error\n",
    "        self.n_particles = n_particles\n",
    "        self.particles = []\n",
    "        self.gbest_value = float('inf')\n",
    "        self.gbest_position = np.array([random.random()*50, random.random()*50])\n",
    "\n",
    "    def print_particles(self):\n",
    "        for particle in self.particles:\n",
    "            particle.__str__()\n",
    "   \n",
    "    def fitness(self, particle):\n",
    "        return particle.position[0] ** 2 + particle.position[1] ** 2 + 1\n",
    "\n",
    "    def set_pbest(self):\n",
    "        for particle in self.particles:\n",
    "            fitness_cadidate = self.fitness(particle)\n",
    "            if(particle.pbest_value > fitness_cadidate):\n",
    "                particle.pbest_value = fitness_cadidate\n",
    "                particle.pbest_position = particle.position\n",
    "            \n",
    "\n",
    "    def set_gbest(self):\n",
    "        for particle in self.particles:\n",
    "            best_fitness_cadidate = self.fitness(particle)\n",
    "            if(self.gbest_value > best_fitness_cadidate):\n",
    "                self.gbest_value = best_fitness_cadidate\n",
    "                self.gbest_position = particle.position\n",
    "\n",
    "    def move_particles(self):\n",
    "        for particle in self.particles:\n",
    "            global W\n",
    "            new_velocity = (W*particle.velocity) + (c1*random.random()) * (particle.pbest_position - particle.position) + \\\n",
    "                            (random.random()*c2) * (self.gbest_position - particle.position)\n",
    "            particle.velocity = new_velocity\n",
    "            particle.move()"
   ]
  },
  {
   "cell_type": "code",
   "execution_count": 7,
   "metadata": {},
   "outputs": [
    {
     "name": "stdout",
     "output_type": "stream",
     "text": [
      "The best solution is:  [ 0.00051643  0.00021877]  in n_iterations:  23\n"
     ]
    }
   ],
   "source": [
    "########################## M A I N ###################\n",
    "\n",
    "search_space = Space(1, target_error, n_particles)\n",
    "particles_vector = [Particle() for _ in range(search_space.n_particles)]\n",
    "search_space.particles = particles_vector\n",
    "search_space.print_particles()\n",
    "\n",
    "iteration = 0\n",
    "while(iteration < n_iterations):\n",
    "    search_space.set_pbest()    \n",
    "    search_space.set_gbest()\n",
    "\n",
    "    if(abs(search_space.gbest_value - search_space.target) <= search_space.target_error):\n",
    "        break\n",
    "\n",
    "    search_space.move_particles()\n",
    "    iteration += 1\n",
    "    \n",
    "print(\"The best solution is: \", search_space.gbest_position, \" in n_iterations: \", iteration)"
   ]
  },
  {
   "cell_type": "code",
   "execution_count": null,
   "metadata": {
    "collapsed": true
   },
   "outputs": [],
   "source": []
  }
 ],
 "metadata": {
  "kernelspec": {
   "display_name": "Python 3",
   "language": "python",
   "name": "python3"
  },
  "language_info": {
   "codemirror_mode": {
    "name": "ipython",
    "version": 3
   },
   "file_extension": ".py",
   "mimetype": "text/x-python",
   "name": "python",
   "nbconvert_exporter": "python",
   "pygments_lexer": "ipython3",
   "version": "3.6.8"
  }
 },
 "nbformat": 4,
 "nbformat_minor": 2
}
