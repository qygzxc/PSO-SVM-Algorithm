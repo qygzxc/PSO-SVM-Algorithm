{
 "cells": [
  {
   "cell_type": "code",
   "execution_count": 1,
   "metadata": {},
   "outputs": [],
   "source": [
    "import pandas as pd\n",
    "import numpy as np\n",
    "import math\n",
    "import random\n",
    "import csv\n",
    "from sklearn.model_selection import KFold\n",
    "from sklearn.model_selection import cross_val_score\n",
    "from sklearn.svm import SVC\n",
    "from sklearn.metrics import classification_report, confusion_matrix\n",
    "import matplotlib.pyplot as plt\n",
    "from time import time\n",
    "from sklearn.decomposition import PCA\n",
    "from sklearn.preprocessing import StandardScaler"
   ]
  },
  {
   "cell_type": "code",
   "execution_count": 2,
   "metadata": {
    "scrolled": true
   },
   "outputs": [
    {
     "data": {
      "text/plain": [
       "1    700\n",
       "2    300\n",
       "Name: y, dtype: int64"
      ]
     },
     "execution_count": 2,
     "metadata": {},
     "output_type": "execute_result"
    }
   ],
   "source": [
    "#url = \"D:\\\\TUGAS AKHIR\\\\Data TA\\\\data3.csv\"\n",
    "#colnames = ['x1', 'x2', 'x3','x4','x5','x6','x7','x8','y']\n",
    "\n",
    "#url = \"D:\\\\TUGAS AKHIR\\\\Data TA\\\\Australian fraud dataset\\\\australian.csv\"\n",
    "#colnames = ['x1', 'x2', 'x3','x4','x5','x6','x7','x8','x9','x10','x11','x12','x13','x14', 'y']\n",
    "\n",
    "url = \"D:\\\\TUGAS AKHIR\\\\Data TA\\\\German fraud dataset\\\\german.csv\"\n",
    "colnames = ['x1', 'x2', 'x3','x4','x5','x6','x7','x8','x9','x10','x11','x12','x13','x14','x15','x16','x17','x18','x19','x20','x21','x22','x23','x24','y']\n",
    "\n",
    "data = pd.read_csv(url, header = None, names = colnames)\n",
    "#data = data.sample(n=10000, random_state = 42)\n",
    "data[\"y\"].value_counts()"
   ]
  },
  {
   "cell_type": "code",
   "execution_count": 3,
   "metadata": {
    "scrolled": true
   },
   "outputs": [],
   "source": [
    "#X = data.drop('y', axis = 1)\n",
    "#scaler = StandardScaler()\n",
    "#scaler.fit(X)\n",
    "#X = scaler.transform(X)\n",
    "#y = data['y']\n",
    "#pca = PCA(0.85)\n",
    "#pca.fit(X)\n",
    "#print(pca.n_components_)"
   ]
  },
  {
   "cell_type": "code",
   "execution_count": 4,
   "metadata": {
    "scrolled": true
   },
   "outputs": [],
   "source": [
    "#X = pca.transform(X)\n",
    "#colnames1 = ['x1', 'x2', 'x3','x4','x5','x6','x7','x8','x9','x10','x11','x12','x13','x14','x15','x16']\n",
    "#X = pd.DataFrame(data = data, columns = colnames1)\n",
    "#print(X)"
   ]
  },
  {
   "cell_type": "code",
   "execution_count": 5,
   "metadata": {},
   "outputs": [],
   "source": [
    "#################### I N P U T ####################\n",
    "#berdasarkan buku\n",
    "#khi = 0.729\n",
    "#c1 = 2.05\n",
    "#c2 = 2.05\n",
    "\n",
    "#berdasarkan paper\n",
    "K = 0.3\n",
    "c1 = 2.05\n",
    "c2 = 2.05\n",
    "c = c1 + c2\n",
    "khi = 2*K/(abs(2-c-math.sqrt(c**2-4*c)))\n",
    "n_iterations = 10\n",
    "n_particles = 100"
   ]
  },
  {
   "cell_type": "code",
   "execution_count": 6,
   "metadata": {},
   "outputs": [],
   "source": [
    "#mencari nilai 0-1 loss dari tiap partikel\n",
    "#partikle = (gamma,C) untuk rbf\n",
    "def fitness_function(position):\n",
    "    kf = KFold(n_splits = 3)\n",
    "    svclassifier = SVC(kernel='rbf', gamma = position[0], C = position[1] )  \n",
    "   # svclassifier.fit(X_train, y_train)\n",
    "    scores = cross_val_score(svclassifier, X, y, cv = kf, scoring = 'roc_auc')\n",
    "    return np.mean(scores)\n",
    "   # y_train_pred = svclassifier.predict(X_train)\n",
    "   # y_test_pred = svclassifier.predict(X_test)   \n",
    "   # return (confusion_matrix(y_train,y_train_pred)[0][1] + confusion_matrix(y_train,y_train_pred)[1][0])/np.sum(confusion_matrix(y_train,y_train_pred)), (confusion_matrix(y_test,y_test_pred)[0][1] + confusion_matrix(y_test,y_test_pred)[1][0])/np.sum(confusion_matrix(y_test,y_test_pred))\n",
    "\n",
    "#plotting (x axis = gamma, y axis = C)\n",
    "def plot(position):\n",
    "    x = []\n",
    "    y = []\n",
    "    for i in range(0,len(particle_position_vector)):\n",
    "        x.append(particle_position_vector[i][0])\n",
    "        y.append(particle_position_vector[i][1])\n",
    "    colors = (0,0,0)\n",
    "    plt.scatter(x, y, c = colors, alpha = 0.3)\n",
    "    plt.xlabel('gamma')\n",
    "    plt.ylabel('C')\n",
    "    plt.axis([-1,11,-1,11])\n",
    "    plt.gca().set_aspect('equal', adjustable='box')\n",
    "    return plt.show()\n",
    "\n",
    "for i in range(n_particles):\n",
    "    max_velocity = np.array([10,10])\n",
    "    min_velocity = np.array([-10,-10])\n",
    "    max_position = np.array([10,10])\n",
    "    min_position = np.array([0.0001, 0.001])\n",
    "\n",
    "def eval_velocity(new_velocity):\n",
    "    for j in range(0,2):\n",
    "        if(new_velocity[j] > max_velocity[j]):\n",
    "            new_velocity[j] = max_velocity[j]\n",
    "        elif(new_velocity[j] < min_velocity[j]):\n",
    "            new_velocity[j] = min_velocity[j]\n",
    "    return new_velocity\n",
    "\n",
    "def eval_position(particle_position_vector):\n",
    "    for j in range(0,2):\n",
    "        if(particle_position_vector[j] > max_position[j]):\n",
    "            particle_position_vector[j] = max_position[j]\n",
    "        elif(particle_position_vector[j] < min_position[j]):\n",
    "            particle_position_vector[j] = min_position[j]\n",
    "    return particle_position_vector\n",
    "        "
   ]
  },
  {
   "cell_type": "code",
   "execution_count": 7,
   "metadata": {},
   "outputs": [],
   "source": [
    "particle_position_vector = np.array([np.array([random.random()*10, random.random()*10]) for _ in range(n_particles)])\n",
    "pbest_position = particle_position_vector\n",
    "pbest_fitness_value = np.array([0 for _ in range(n_particles)])\n",
    "gbest_fitness_value = np.array([0])\n",
    "gbest_position = np.array([float('inf'), float('inf')])\n",
    "velocity_vector = np.array([np.array([(-1) ** (bool(random.getrandbits(1)))*random.random()*2,(-1) ** (bool(random.getrandbits(1))) * random.random()*2]) for _ in range(n_particles)])\n",
    "#velocity_vector = ([np.array([0, 0]) for _ in range(n_particles)])\n",
    "iteration = 0"
   ]
  },
  {
   "cell_type": "code",
   "execution_count": 8,
   "metadata": {
    "scrolled": false
   },
   "outputs": [
    {
     "name": "stderr",
     "output_type": "stream",
     "text": [
      "'c' argument looks like a single numeric RGB or RGBA sequence, which should be avoided as value-mapping will have precedence in case its length matches with 'x' & 'y'.  Please use a 2-D array with a single row if you really want to specify the same RGB or RGBA value for all points.\n"
     ]
    },
    {
     "data": {
      "image/png": "[encoded data removed]",
      "text/plain": [
       "<Figure size 432x288 with 1 Axes>"
      ]
     },
     "metadata": {
      "needs_background": "light"
     },
     "output_type": "display_data"
    },
    {
     "ename": "NameError",
     "evalue": "name 'X' is not defined",
     "output_type": "error",
     "traceback": [
      "\u001b[1;31m---------------------------------------------------------------------------\u001b[0m",
      "\u001b[1;31mNameError\u001b[0m                                 Traceback (most recent call last)",
      "\u001b[1;32m<ipython-input-8-e6624484b047>\u001b[0m in \u001b[0;36m<module>\u001b[1;34m\u001b[0m\n\u001b[0;32m      8\u001b[0m     \u001b[1;32mfor\u001b[0m \u001b[0mi\u001b[0m \u001b[1;32min\u001b[0m \u001b[0mrange\u001b[0m\u001b[1;33m(\u001b[0m\u001b[0mn_particles\u001b[0m\u001b[1;33m)\u001b[0m\u001b[1;33m:\u001b[0m\u001b[1;33m\u001b[0m\u001b[1;33m\u001b[0m\u001b[0m\n\u001b[0;32m      9\u001b[0m         \u001b[0mstart2\u001b[0m \u001b[1;33m=\u001b[0m \u001b[0mtime\u001b[0m\u001b[1;33m(\u001b[0m\u001b[1;33m)\u001b[0m\u001b[1;33m\u001b[0m\u001b[1;33m\u001b[0m\u001b[0m\n\u001b[1;32m---> 10\u001b[1;33m         \u001b[0mfitness_cadidate\u001b[0m \u001b[1;33m=\u001b[0m \u001b[0mfitness_function\u001b[0m\u001b[1;33m(\u001b[0m\u001b[0mparticle_position_vector\u001b[0m\u001b[1;33m[\u001b[0m\u001b[0mi\u001b[0m\u001b[1;33m]\u001b[0m\u001b[1;33m)\u001b[0m\u001b[1;33m\u001b[0m\u001b[1;33m\u001b[0m\u001b[0m\n\u001b[0m\u001b[0;32m     11\u001b[0m         \u001b[0mstop2\u001b[0m \u001b[1;33m=\u001b[0m \u001b[0mtime\u001b[0m\u001b[1;33m(\u001b[0m\u001b[1;33m)\u001b[0m\u001b[1;33m\u001b[0m\u001b[1;33m\u001b[0m\u001b[0m\n\u001b[0;32m     12\u001b[0m         \u001b[0mprint\u001b[0m\u001b[1;33m(\u001b[0m\u001b[1;34m\"AUC for particle -\"\u001b[0m\u001b[1;33m,\u001b[0m \u001b[0mi\u001b[0m\u001b[1;33m+\u001b[0m\u001b[1;36m1\u001b[0m\u001b[1;33m,\u001b[0m\u001b[1;34m\"is\"\u001b[0m\u001b[1;33m,\u001b[0m \u001b[0mfitness_cadidate\u001b[0m\u001b[1;33m,\u001b[0m \u001b[1;34m\" At (gamma, c): \"\u001b[0m\u001b[1;33m,\u001b[0m \u001b[0mparticle_position_vector\u001b[0m\u001b[1;33m[\u001b[0m\u001b[0mi\u001b[0m\u001b[1;33m]\u001b[0m\u001b[1;33m,\u001b[0m \u001b[1;34m\".. Time = \"\u001b[0m\u001b[1;33m,\u001b[0m \u001b[0mstop2\u001b[0m \u001b[1;33m-\u001b[0m \u001b[0mstart2\u001b[0m\u001b[1;33m)\u001b[0m\u001b[1;33m\u001b[0m\u001b[1;33m\u001b[0m\u001b[0m\n",
      "\u001b[1;32m<ipython-input-6-e15b963230f9>\u001b[0m in \u001b[0;36mfitness_function\u001b[1;34m(position)\u001b[0m\n\u001b[0;32m      5\u001b[0m     \u001b[0msvclassifier\u001b[0m \u001b[1;33m=\u001b[0m \u001b[0mSVC\u001b[0m\u001b[1;33m(\u001b[0m\u001b[0mkernel\u001b[0m\u001b[1;33m=\u001b[0m\u001b[1;34m'rbf'\u001b[0m\u001b[1;33m,\u001b[0m \u001b[0mgamma\u001b[0m \u001b[1;33m=\u001b[0m \u001b[0mposition\u001b[0m\u001b[1;33m[\u001b[0m\u001b[1;36m0\u001b[0m\u001b[1;33m]\u001b[0m\u001b[1;33m,\u001b[0m \u001b[0mC\u001b[0m \u001b[1;33m=\u001b[0m \u001b[0mposition\u001b[0m\u001b[1;33m[\u001b[0m\u001b[1;36m1\u001b[0m\u001b[1;33m]\u001b[0m \u001b[1;33m)\u001b[0m\u001b[1;33m\u001b[0m\u001b[1;33m\u001b[0m\u001b[0m\n\u001b[0;32m      6\u001b[0m    \u001b[1;31m# svclassifier.fit(X_train, y_train)\u001b[0m\u001b[1;33m\u001b[0m\u001b[1;33m\u001b[0m\u001b[1;33m\u001b[0m\u001b[0m\n\u001b[1;32m----> 7\u001b[1;33m     \u001b[0mscores\u001b[0m \u001b[1;33m=\u001b[0m \u001b[0mcross_val_score\u001b[0m\u001b[1;33m(\u001b[0m\u001b[0msvclassifier\u001b[0m\u001b[1;33m,\u001b[0m \u001b[0mX\u001b[0m\u001b[1;33m,\u001b[0m \u001b[0my\u001b[0m\u001b[1;33m,\u001b[0m \u001b[0mcv\u001b[0m \u001b[1;33m=\u001b[0m \u001b[0mkf\u001b[0m\u001b[1;33m,\u001b[0m \u001b[0mscoring\u001b[0m \u001b[1;33m=\u001b[0m \u001b[1;34m'roc_auc'\u001b[0m\u001b[1;33m)\u001b[0m\u001b[1;33m\u001b[0m\u001b[1;33m\u001b[0m\u001b[0m\n\u001b[0m\u001b[0;32m      8\u001b[0m     \u001b[1;32mreturn\u001b[0m \u001b[0mnp\u001b[0m\u001b[1;33m.\u001b[0m\u001b[0mmean\u001b[0m\u001b[1;33m(\u001b[0m\u001b[0mscores\u001b[0m\u001b[1;33m)\u001b[0m\u001b[1;33m\u001b[0m\u001b[1;33m\u001b[0m\u001b[0m\n\u001b[0;32m      9\u001b[0m    \u001b[1;31m# y_train_pred = svclassifier.predict(X_train)\u001b[0m\u001b[1;33m\u001b[0m\u001b[1;33m\u001b[0m\u001b[1;33m\u001b[0m\u001b[0m\n",
      "\u001b[1;31mNameError\u001b[0m: name 'X' is not defined"
     ]
    }
   ],
   "source": [
    "start = time()\n",
    "while iteration < n_iterations:\n",
    "    gbest_fitness_value_cadidate = np.array([0])\n",
    "    gbest_position_cadidate = np.array([float('inf'), float('inf')])\n",
    "    start1 = time()\n",
    "    plot(particle_position_vector)\n",
    "    \n",
    "    for i in range(n_particles):\n",
    "        start2 = time()\n",
    "        fitness_cadidate = fitness_function(particle_position_vector[i])\n",
    "        stop2 = time()\n",
    "        print(\"AUC for particle -\", i+1,\"is\", fitness_cadidate, \" At (gamma, c): \", particle_position_vector[i], \".. Time = \", stop2 - start2)\n",
    "        \n",
    "        if(pbest_fitness_value[i] < fitness_cadidate):\n",
    "            pbest_fitness_value[i] = fitness_cadidate\n",
    "            pbest_position[i] = particle_position_vector[i]\n",
    "\n",
    "        if(gbest_fitness_value_cadidate < fitness_cadidate):\n",
    "            gbest_fitness_value_cadidate = fitness_cadidate\n",
    "            gbest_position_cadidate = particle_position_vector[i]\n",
    "        \n",
    "    print(\"The best position in iteration number\", iteration + 1, \"is\", gbest_position_cadidate, \"with AUC:\", fitness_function(gbest_position_cadidate))\n",
    "    \n",
    "   # if(gbest_fitness_value < gbest_fitness_value_cadidate):\n",
    "    #    gbest_fitness_value = gbest_fitness_value_cadidate\n",
    "     #   gbest_position = gbest_position_cadidate\n",
    "    #print(\"The best position so far is \", gbest_position, \"in iteration number\", iteration + 1, \"with AUC:\", fitness_function(gbest_position))\n",
    "    \n",
    "    for i in range(n_particles):\n",
    "        new_velocity = khi*(velocity_vector[i] + (c1*random.random()) * (pbest_position[i] - particle_position_vector[i]) + (c2*random.random()) * (gbest_position_cadidate-particle_position_vector[i]))\n",
    "        new_velocity = eval_velocity(new_velocity)\n",
    "        particle_position_vector[i] = new_velocity + particle_position_vector[i]\n",
    "        particle_position_vector[i] = eval_position(particle_position_vector[i])\n",
    "    \n",
    "    iteration = iteration + 1\n",
    "    stop1 = time()\n",
    "    sec = stop1-start1\n",
    "    print(sec)\n",
    "stop = time()\n",
    "print(stop - start)\n"
   ]
  }
 ],
 "metadata": {
  "kernelspec": {
   "display_name": "Python 3",
   "language": "python",
   "name": "python3"
  },
  "language_info": {
   "codemirror_mode": {
    "name": "ipython",
    "version": 3
   },
   "file_extension": ".py",
   "mimetype": "text/x-python",
   "name": "python",
   "nbconvert_exporter": "python",
   "pygments_lexer": "ipython3",
   "version": "3.6.8"
  }
 },
 "nbformat": 4,
 "nbformat_minor": 2
}
