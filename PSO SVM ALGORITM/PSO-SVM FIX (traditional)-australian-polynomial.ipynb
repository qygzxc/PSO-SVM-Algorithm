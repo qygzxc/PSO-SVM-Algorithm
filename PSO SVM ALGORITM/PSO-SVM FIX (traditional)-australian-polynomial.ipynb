{
 "cells": [
  {
   "cell_type": "code",
   "execution_count": 1,
   "metadata": {},
   "outputs": [],
   "source": [
    "import pandas as pd\n",
    "import numpy as np\n",
    "import random\n",
    "import csv\n",
    "from sklearn.model_selection import train_test_split\n",
    "from sklearn.svm import SVC\n",
    "from sklearn.metrics import classification_report, confusion_matrix  \n",
    "import matplotlib.pyplot as plt"
   ]
  },
  {
   "cell_type": "code",
   "execution_count": 12,
   "metadata": {},
   "outputs": [],
   "source": [
    "url = \"D:\\\\TUGAS AKHIR\\\\Data TA\\\\Australian fraud dataset\\\\australian.csv\"\n",
    "colnames = ['x1', 'x2', 'x3','x4','x5','x6','x7','x8','x9','x10','x11','x12','x13','x14', 'y']\n",
    "data = pd.read_csv(url, header = None, names = colnames)\n",
    "X = data.drop('y', axis = 1)\n",
    "X = (X-X.mean())/X.std()\n",
    "y = data['y']\n",
    "X_train, X_test, y_train, y_test = train_test_split(X, y, test_size = 0.20)  "
   ]
  },
  {
   "cell_type": "code",
   "execution_count": 7,
   "metadata": {},
   "outputs": [
    {
     "name": "stdout",
     "output_type": "stream",
     "text": [
      "Inform the number of iterations: 10\n",
      "Inform the number of particles: 100\n"
     ]
    }
   ],
   "source": [
    "#################### I N P U T ####################\n",
    "W = 0.5\n",
    "c1 = 0.5\n",
    "c2 = 0.5\n",
    "\n",
    "n_iterations = int(input(\"Inform the number of iterations: \"))\n",
    "n_particles = int(input(\"Inform the number of particles: \"))"
   ]
  },
  {
   "cell_type": "code",
   "execution_count": 8,
   "metadata": {},
   "outputs": [],
   "source": [
    "#mencari nilai 0-1 loss dari tiap partikel\n",
    "#partikle = (gamma,C) untuk rbf\n",
    "def fitness_function(position):\n",
    "    svclassifier = SVC(kernel='poly', gamma = position[0], C = position[1] )  \n",
    "    svclassifier.fit(X_train, y_train)\n",
    "    y_train_pred = svclassifier.predict(X_train)\n",
    "    y_test_pred = svclassifier.predict(X_test)   \n",
    "    return (confusion_matrix(y_train,y_train_pred)[0][1] + confusion_matrix(y_train,y_train_pred)[1][0])/np.sum(confusion_matrix(y_train,y_train_pred)), (confusion_matrix(y_test,y_test_pred)[0][1] + confusion_matrix(y_test,y_test_pred)[1][0])/np.sum(confusion_matrix(y_test,y_test_pred))\n",
    "\n",
    "#plotting (x axis = gamma, y axis = C)\n",
    "def plot(position):\n",
    "    x = []\n",
    "    y = []\n",
    "    for i in range(0,len(particle_position_vector)):\n",
    "        x.append(particle_position_vector[i][0])\n",
    "        y.append(particle_position_vector[i][1])\n",
    "    colors = (0,0,0)\n",
    "    plt.scatter(x, y, c = colors, alpha = 0.1)\n",
    "    plt.xlabel('C')\n",
    "    plt.ylabel('gamma')\n",
    "    plt.axis([0,10,0,10])\n",
    "    plt.gca().set_aspect('equal', adjustable='box')\n",
    "    return plt.show()"
   ]
  },
  {
   "cell_type": "code",
   "execution_count": 15,
   "metadata": {
    "scrolled": false
   },
   "outputs": [
    {
     "name": "stderr",
     "output_type": "stream",
     "text": [
      "'c' argument looks like a single numeric RGB or RGBA sequence, which should be avoided as value-mapping will have precedence in case its length matches with 'x' & 'y'.  Please use a 2-D array with a single row if you really want to specify the same RGB or RGBA value for all points.\n"
     ]
    },
    {
     "data": {
      "image/png": "[encoded data removed]",
      "text/plain": [
       "<Figure size 432x288 with 1 Axes>"
      ]
     },
     "metadata": {
      "needs_background": "light"
     },
     "output_type": "display_data"
    },
    {
     "name": "stdout",
     "output_type": "stream",
     "text": [
      "error of particle- 1 is (training, test) (0.0, 0.21739130434782608)  At (gamma, c):  [7.         9.18881738]\n",
      "error of particle- 2 is (training, test) (0.0018115942028985507, 0.2246376811594203)  At (gamma, c):  [2.         0.05467787]\n",
      "error of particle- 3 is (training, test) (0.0, 0.21739130434782608)  At (gamma, c):  [5.         9.59641723]\n",
      "error of particle- 4 is (training, test) (0.0, 0.21739130434782608)  At (gamma, c):  [4.         1.23179075]\n",
      "error of particle- 5 is (training, test) (0.0, 0.21739130434782608)  At (gamma, c):  [9.         7.42137606]\n",
      "error of particle- 6 is (training, test) (0.0, 0.21739130434782608)  At (gamma, c):  [8.         9.18287016]\n",
      "error of particle- 7 is (training, test) (0.0, 0.21739130434782608)  At (gamma, c):  [10.          1.57456366]\n",
      "error of particle- 8 is (training, test) (0.0, 0.21739130434782608)  At (gamma, c):  [5.         4.33781737]\n",
      "error of particle- 9 is (training, test) (0.0, 0.21739130434782608)  At (gamma, c):  [3.        2.9474705]\n",
      "error of particle- 10 is (training, test) (0.0, 0.21739130434782608)  At (gamma, c):  [9.         6.44997835]\n",
      "error of particle- 11 is (training, test) (0.0, 0.21739130434782608)  At (gamma, c):  [7.         8.35680874]\n",
      "error of particle- 12 is (training, test) (0.0, 0.21739130434782608)  At (gamma, c):  [2.         1.26341906]\n",
      "error of particle- 13 is (training, test) (0.0, 0.21739130434782608)  At (gamma, c):  [5.        5.3086148]\n",
      "error of particle- 14 is (training, test) (0.0, 0.21739130434782608)  At (gamma, c):  [5.         4.62726791]\n",
      "error of particle- 15 is (training, test) (0.0, 0.21739130434782608)  At (gamma, c):  [5.         3.20701303]\n",
      "error of particle- 16 is (training, test) (0.0, 0.21739130434782608)  At (gamma, c):  [1.         9.98098624]\n",
      "error of particle- 17 is (training, test) (0.0, 0.21739130434782608)  At (gamma, c):  [8.         5.46644233]\n",
      "error of particle- 18 is (training, test) (0.0, 0.21739130434782608)  At (gamma, c):  [6.         1.82166416]\n",
      "error of particle- 19 is (training, test) (0.0, 0.21739130434782608)  At (gamma, c):  [2.         3.74591114]\n",
      "error of particle- 20 is (training, test) (0.0, 0.21739130434782608)  At (gamma, c):  [4.         2.22471366]\n",
      "error of particle- 21 is (training, test) (0.0, 0.21739130434782608)  At (gamma, c):  [10.         5.1667709]\n",
      "error of particle- 22 is (training, test) (0.0, 0.21739130434782608)  At (gamma, c):  [3.         2.60173087]\n",
      "error of particle- 23 is (training, test) (0.0, 0.21739130434782608)  At (gamma, c):  [6.        2.1059704]\n",
      "error of particle- 24 is (training, test) (0.0, 0.21739130434782608)  At (gamma, c):  [7.         3.30954119]\n",
      "error of particle- 25 is (training, test) (0.0, 0.21739130434782608)  At (gamma, c):  [7.         6.32427891]\n",
      "error of particle- 26 is (training, test) (0.0, 0.21739130434782608)  At (gamma, c):  [5.         1.27999005]\n",
      "error of particle- 27 is (training, test) (0.0, 0.21739130434782608)  At (gamma, c):  [3.         6.44878097]\n",
      "error of particle- 28 is (training, test) (0.0, 0.21739130434782608)  At (gamma, c):  [7.         0.69976651]\n",
      "error of particle- 29 is (training, test) (0.0, 0.21739130434782608)  At (gamma, c):  [10.          5.40256884]\n",
      "error of particle- 30 is (training, test) (0.0, 0.21739130434782608)  At (gamma, c):  [9.         7.50110185]\n",
      "error of particle- 31 is (training, test) (0.0, 0.21739130434782608)  At (gamma, c):  [3.        1.3427169]\n",
      "error of particle- 32 is (training, test) (0.0, 0.21739130434782608)  At (gamma, c):  [7.         8.53575354]\n",
      "error of particle- 33 is (training, test) (0.0, 0.21739130434782608)  At (gamma, c):  [6.         3.62528184]\n",
      "error of particle- 34 is (training, test) (0.0, 0.21739130434782608)  At (gamma, c):  [1.         8.11825255]\n",
      "error of particle- 35 is (training, test) (0.0, 0.21739130434782608)  At (gamma, c):  [5.         0.93882951]\n",
      "error of particle- 36 is (training, test) (0.0, 0.2028985507246377)  At (gamma, c):  [1.         5.51299988]\n",
      "error of particle- 37 is (training, test) (0.0018115942028985507, 0.1956521739130435)  At (gamma, c):  [1.         3.26464314]\n",
      "error of particle- 38 is (training, test) (0.0, 0.21739130434782608)  At (gamma, c):  [5.         5.27052818]\n",
      "error of particle- 39 is (training, test) (0.0, 0.21739130434782608)  At (gamma, c):  [3.         1.09348657]\n",
      "error of particle- 40 is (training, test) (0.0, 0.21739130434782608)  At (gamma, c):  [8.         5.22007482]\n",
      "error of particle- 41 is (training, test) (0.0, 0.21739130434782608)  At (gamma, c):  [9.         0.15234589]\n",
      "error of particle- 42 is (training, test) (0.0018115942028985507, 0.1956521739130435)  At (gamma, c):  [1.         2.67598404]\n",
      "error of particle- 43 is (training, test) (0.0, 0.21739130434782608)  At (gamma, c):  [10.          0.38637159]\n",
      "error of particle- 44 is (training, test) (0.0, 0.21739130434782608)  At (gamma, c):  [7.         9.17252037]\n",
      "error of particle- 45 is (training, test) (0.0, 0.21739130434782608)  At (gamma, c):  [3.         2.32682338]\n",
      "error of particle- 46 is (training, test) (0.0, 0.21739130434782608)  At (gamma, c):  [6.         4.08496865]\n",
      "error of particle- 47 is (training, test) (0.0, 0.21014492753623187)  At (gamma, c):  [4.         0.08994508]\n",
      "error of particle- 48 is (training, test) (0.0, 0.1956521739130435)  At (gamma, c):  [1.         4.82248808]\n",
      "error of particle- 49 is (training, test) (0.0, 0.21739130434782608)  At (gamma, c):  [4.         4.06843972]\n",
      "error of particle- 50 is (training, test) (0.0, 0.21739130434782608)  At (gamma, c):  [4.         1.40664228]\n",
      "error of particle- 51 is (training, test) (0.0, 0.21739130434782608)  At (gamma, c):  [8.         4.25858185]\n",
      "error of particle- 52 is (training, test) (0.0, 0.21739130434782608)  At (gamma, c):  [10.          2.68559265]\n",
      "error of particle- 53 is (training, test) (0.0, 0.21739130434782608)  At (gamma, c):  [3.         9.32820352]\n",
      "error of particle- 54 is (training, test) (0.0, 0.21739130434782608)  At (gamma, c):  [9.         6.39588039]\n",
      "error of particle- 55 is (training, test) (0.0, 0.21739130434782608)  At (gamma, c):  [2.         7.20869246]\n",
      "error of particle- 56 is (training, test) (0.0, 0.21739130434782608)  At (gamma, c):  [9.         8.10091009]\n",
      "error of particle- 57 is (training, test) (0.0, 0.21739130434782608)  At (gamma, c):  [8.         7.57187532]\n",
      "error of particle- 58 is (training, test) (0.0, 0.21739130434782608)  At (gamma, c):  [2.         9.60462555]\n",
      "error of particle- 59 is (training, test) (0.0, 0.21739130434782608)  At (gamma, c):  [5.         6.70616689]\n",
      "error of particle- 60 is (training, test) (0.0, 0.21739130434782608)  At (gamma, c):  [6.         1.69363321]\n",
      "error of particle- 61 is (training, test) (0.0, 0.21739130434782608)  At (gamma, c):  [4.         7.56299202]\n",
      "error of particle- 62 is (training, test) (0.0, 0.21739130434782608)  At (gamma, c):  [2.         6.11529761]\n",
      "error of particle- 63 is (training, test) (0.0, 0.21739130434782608)  At (gamma, c):  [5.         7.05035582]\n",
      "error of particle- 64 is (training, test) (0.0, 0.21739130434782608)  At (gamma, c):  [5.         6.59687888]\n",
      "error of particle- 65 is (training, test) (0.0, 0.21739130434782608)  At (gamma, c):  [10.          5.10432321]\n",
      "error of particle- 66 is (training, test) (0.0, 0.21739130434782608)  At (gamma, c):  [7.         7.94553413]\n",
      "error of particle- 67 is (training, test) (0.0, 0.21739130434782608)  At (gamma, c):  [8.        1.0294431]\n",
      "error of particle- 68 is (training, test) (0.0, 0.21739130434782608)  At (gamma, c):  [8.         2.28477269]\n",
      "error of particle- 69 is (training, test) (0.0, 0.21739130434782608)  At (gamma, c):  [10.          1.04451287]\n",
      "error of particle- 70 is (training, test) (0.0, 0.21739130434782608)  At (gamma, c):  [9.         7.79856123]\n",
      "error of particle- 71 is (training, test) (0.0, 0.21739130434782608)  At (gamma, c):  [7.         9.79045024]\n",
      "error of particle- 72 is (training, test) (0.0, 0.21739130434782608)  At (gamma, c):  [7.         8.81763307]\n",
      "error of particle- 73 is (training, test) (0.0, 0.21739130434782608)  At (gamma, c):  [8.        1.3196103]\n",
      "error of particle- 74 is (training, test) (0.0, 0.21739130434782608)  At (gamma, c):  [5.         6.87414636]\n",
      "error of particle- 75 is (training, test) (0.0018115942028985507, 0.1956521739130435)  At (gamma, c):  [1.         1.64182162]\n",
      "error of particle- 76 is (training, test) (0.0, 0.21739130434782608)  At (gamma, c):  [10.          1.57707487]\n"
     ]
    },
    {
     "name": "stdout",
     "output_type": "stream",
     "text": [
      "error of particle- 77 is (training, test) (0.0018115942028985507, 0.18840579710144928)  At (gamma, c):  [1.         4.60010273]\n",
      "error of particle- 78 is (training, test) (0.0, 0.21739130434782608)  At (gamma, c):  [4.         4.72015078]\n",
      "error of particle- 79 is (training, test) (0.0, 0.21739130434782608)  At (gamma, c):  [7.         3.10117059]\n",
      "error of particle- 80 is (training, test) (0.0, 0.21739130434782608)  At (gamma, c):  [8.         8.53864313]\n",
      "error of particle- 81 is (training, test) (0.0, 0.21739130434782608)  At (gamma, c):  [6.         2.64855753]\n",
      "error of particle- 82 is (training, test) (0.0, 0.21739130434782608)  At (gamma, c):  [7.         6.39959624]\n",
      "error of particle- 83 is (training, test) (0.0, 0.21739130434782608)  At (gamma, c):  [7.         6.94928639]\n",
      "error of particle- 84 is (training, test) (0.0, 0.21739130434782608)  At (gamma, c):  [6.         7.85357194]\n",
      "error of particle- 85 is (training, test) (0.0, 0.21739130434782608)  At (gamma, c):  [1.         7.39353357]\n",
      "error of particle- 86 is (training, test) (0.0, 0.21739130434782608)  At (gamma, c):  [6.         7.74251118]\n",
      "error of particle- 87 is (training, test) (0.0, 0.21739130434782608)  At (gamma, c):  [5.         4.76008594]\n",
      "error of particle- 88 is (training, test) (0.0, 0.21739130434782608)  At (gamma, c):  [4.         2.10405991]\n",
      "error of particle- 89 is (training, test) (0.0, 0.21739130434782608)  At (gamma, c):  [5.         2.56588097]\n",
      "error of particle- 90 is (training, test) (0.0, 0.21739130434782608)  At (gamma, c):  [10.         7.5700091]\n",
      "error of particle- 91 is (training, test) (0.0, 0.21739130434782608)  At (gamma, c):  [6.         1.61509802]\n",
      "error of particle- 92 is (training, test) (0.0, 0.21739130434782608)  At (gamma, c):  [10.          6.78487089]\n",
      "error of particle- 93 is (training, test) (0.0, 0.21739130434782608)  At (gamma, c):  [4.         6.33554912]\n",
      "error of particle- 94 is (training, test) (0.0, 0.21739130434782608)  At (gamma, c):  [7.         1.68151414]\n",
      "error of particle- 95 is (training, test) (0.0, 0.2028985507246377)  At (gamma, c):  [1.         6.29807518]\n",
      "error of particle- 96 is (training, test) (0.0, 0.21739130434782608)  At (gamma, c):  [8.         9.31469311]\n",
      "error of particle- 97 is (training, test) (0.0, 0.21739130434782608)  At (gamma, c):  [1.         8.53096845]\n",
      "error of particle- 98 is (training, test) (0.0, 0.21739130434782608)  At (gamma, c):  [8.         4.36265358]\n",
      "error of particle- 99 is (training, test) (0.0, 0.21739130434782608)  At (gamma, c):  [4.         5.89108849]\n",
      "error of particle- 100 is (training, test) (0.0, 0.21739130434782608)  At (gamma, c):  [10.          2.30420932]\n"
     ]
    },
    {
     "ename": "TypeError",
     "evalue": "type numpy.ndarray doesn't define __round__ method",
     "output_type": "error",
     "traceback": [
      "\u001b[1;31m---------------------------------------------------------------------------\u001b[0m",
      "\u001b[1;31mTypeError\u001b[0m                                 Traceback (most recent call last)",
      "\u001b[1;32m<ipython-input-15-cd2da9ccf4d8>\u001b[0m in \u001b[0;36m<module>\u001b[1;34m\u001b[0m\n\u001b[0;32m     25\u001b[0m \u001b[1;33m\u001b[0m\u001b[0m\n\u001b[0;32m     26\u001b[0m     \u001b[1;32mfor\u001b[0m \u001b[0mi\u001b[0m \u001b[1;32min\u001b[0m \u001b[0mrange\u001b[0m\u001b[1;33m(\u001b[0m\u001b[0mn_particles\u001b[0m\u001b[1;33m)\u001b[0m\u001b[1;33m:\u001b[0m\u001b[1;33m\u001b[0m\u001b[1;33m\u001b[0m\u001b[0m\n\u001b[1;32m---> 27\u001b[1;33m         \u001b[0mnew_velocity\u001b[0m \u001b[1;33m=\u001b[0m \u001b[1;33m(\u001b[0m\u001b[0mW\u001b[0m\u001b[1;33m*\u001b[0m\u001b[0mvelocity_vector\u001b[0m\u001b[1;33m[\u001b[0m\u001b[0mi\u001b[0m\u001b[1;33m]\u001b[0m\u001b[1;33m)\u001b[0m \u001b[1;33m+\u001b[0m \u001b[0mint\u001b[0m\u001b[1;33m(\u001b[0m\u001b[0mround\u001b[0m\u001b[1;33m(\u001b[0m\u001b[1;33m(\u001b[0m\u001b[0mc1\u001b[0m\u001b[1;33m*\u001b[0m\u001b[0mrandom\u001b[0m\u001b[1;33m.\u001b[0m\u001b[0mrandint\u001b[0m\u001b[1;33m(\u001b[0m\u001b[1;36m0\u001b[0m\u001b[1;33m,\u001b[0m\u001b[1;36m3\u001b[0m\u001b[1;33m)\u001b[0m\u001b[1;33m)\u001b[0m \u001b[1;33m*\u001b[0m \u001b[1;33m(\u001b[0m\u001b[0mpbest_position\u001b[0m\u001b[1;33m[\u001b[0m\u001b[0mi\u001b[0m\u001b[1;33m]\u001b[0m \u001b[1;33m-\u001b[0m \u001b[0mparticle_position_vector\u001b[0m\u001b[1;33m[\u001b[0m\u001b[0mi\u001b[0m\u001b[1;33m]\u001b[0m\u001b[1;33m)\u001b[0m\u001b[1;33m)\u001b[0m\u001b[1;33m)\u001b[0m \u001b[1;33m+\u001b[0m \u001b[1;33m(\u001b[0m\u001b[0mc2\u001b[0m\u001b[1;33m*\u001b[0m\u001b[0mrandom\u001b[0m\u001b[1;33m.\u001b[0m\u001b[0mrandom\u001b[0m\u001b[1;33m(\u001b[0m\u001b[1;33m)\u001b[0m\u001b[1;33m)\u001b[0m \u001b[1;33m*\u001b[0m \u001b[1;33m(\u001b[0m\u001b[0mgbest_position\u001b[0m\u001b[1;33m-\u001b[0m\u001b[0mparticle_position_vector\u001b[0m\u001b[1;33m[\u001b[0m\u001b[0mi\u001b[0m\u001b[1;33m]\u001b[0m\u001b[1;33m)\u001b[0m\u001b[1;33m\u001b[0m\u001b[1;33m\u001b[0m\u001b[0m\n\u001b[0m\u001b[0;32m     28\u001b[0m         \u001b[0mnew_position\u001b[0m \u001b[1;33m=\u001b[0m \u001b[0mnew_velocity\u001b[0m \u001b[1;33m+\u001b[0m \u001b[0mparticle_position_vector\u001b[0m\u001b[1;33m[\u001b[0m\u001b[0mi\u001b[0m\u001b[1;33m]\u001b[0m\u001b[1;33m\u001b[0m\u001b[1;33m\u001b[0m\u001b[0m\n\u001b[0;32m     29\u001b[0m         \u001b[0mparticle_position_vector\u001b[0m\u001b[1;33m[\u001b[0m\u001b[0mi\u001b[0m\u001b[1;33m]\u001b[0m \u001b[1;33m=\u001b[0m \u001b[0mnew_position\u001b[0m\u001b[1;33m\u001b[0m\u001b[1;33m\u001b[0m\u001b[0m\n",
      "\u001b[1;31mTypeError\u001b[0m: type numpy.ndarray doesn't define __round__ method"
     ]
    }
   ],
   "source": [
    "particle_position_vector = np.array([np.array([random.randint(1,10), random.random()*10]) for _ in range(n_particles)])\n",
    "pbest_position = particle_position_vector\n",
    "pbest_fitness_value = np.array([float('inf') for _ in range(n_particles)])\n",
    "gbest_fitness_value = np.array([float('inf'), float('inf')])\n",
    "gbest_position = np.array([float('inf'), float('inf')])\n",
    "\n",
    "velocity_vector = ([np.array([0, 0]) for _ in range(n_particles)])\n",
    "iteration = 0\n",
    "while iteration < n_iterations:\n",
    "    plot(particle_position_vector)\n",
    "    for i in range(n_particles):\n",
    "        fitness_cadidate = fitness_function(particle_position_vector[i])\n",
    "        print(\"error of particle-\",i+1,\"is (training, test)\", fitness_cadidate, \" At (gamma, c): \", particle_position_vector[i])\n",
    "        \n",
    "        if(pbest_fitness_value[i] > fitness_cadidate[1]):\n",
    "            pbest_fitness_value[i] = fitness_cadidate[1]\n",
    "            pbest_position[i] = particle_position_vector[i]\n",
    "\n",
    "        if(gbest_fitness_value[1] > fitness_cadidate[1]):\n",
    "            gbest_fitness_value = fitness_cadidate\n",
    "            gbest_position = particle_position_vector[i]\n",
    "        elif(gbest_fitness_value[1] == fitness_cadidate[1] and gbest_fitness_value[0] > fitness_cadidate[0]):\n",
    "            gbest_fitness_value = fitness_cadidate\n",
    "            gbest_position = particle_position_vector[i]\n",
    "            \n",
    "    for i in range(n_particles):\n",
    "        new_velocity = (W*velocity_vector[i]) + int(round((c1*random.randint(0,3)))) * (pbest_position[i] - particle_position_vector[i]) + (c2*random.random()) * (gbest_position-particle_position_vector[i])\n",
    "        new_position = new_velocity + particle_position_vector[i]\n",
    "        particle_position_vector[i] = new_position\n",
    "        \n",
    "    iteration = iteration + 1\n",
    "    \n",
    "print(\"The best position is \", gbest_position, \"in iteration number\", iteration, \"with error rate (train, test):\", fitness_function(gbest_position))"
   ]
  },
  {
   "cell_type": "code",
   "execution_count": null,
   "metadata": {},
   "outputs": [],
   "source": []
  },
  {
   "cell_type": "code",
   "execution_count": null,
   "metadata": {},
   "outputs": [],
   "source": []
  }
 ],
 "metadata": {
  "kernelspec": {
   "display_name": "Python 3",
   "language": "python",
   "name": "python3"
  },
  "language_info": {
   "codemirror_mode": {
    "name": "ipython",
    "version": 3
   },
   "file_extension": ".py",
   "mimetype": "text/x-python",
   "name": "python",
   "nbconvert_exporter": "python",
   "pygments_lexer": "ipython3",
   "version": "3.6.8"
  }
 },
 "nbformat": 4,
 "nbformat_minor": 2
}
