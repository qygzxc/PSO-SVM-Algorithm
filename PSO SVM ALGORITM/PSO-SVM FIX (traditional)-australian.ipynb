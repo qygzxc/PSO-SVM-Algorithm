{
 "cells": [
  {
   "cell_type": "code",
   "execution_count": 3,
   "metadata": {},
   "outputs": [],
   "source": [
    "import pandas as pd\n",
    "import numpy as np\n",
    "import random\n",
    "import csv\n",
    "from sklearn.model_selection import train_test_split\n",
    "from sklearn.svm import SVC\n",
    "from sklearn.metrics import classification_report, confusion_matrix  \n",
    "import matplotlib.pyplot as plt"
   ]
  },
  {
   "cell_type": "code",
   "execution_count": 4,
   "metadata": {},
   "outputs": [],
   "source": [
    "url = \"D:\\\\TUGAS AKHIR\\\\Data TA\\\\Australian fraud dataset\\\\australian.csv\"\n",
    "colnames = ['x1', 'x2', 'x3','x4','x5','x6','x7','x8','x9','x10','x11','x12','x13','x14', 'y']\n",
    "data = pd.read_csv(url, header = None, names = colnames)\n",
    "X = data.drop('y', axis = 1)\n",
    "X = (X-X.mean())/X.std()\n",
    "y = data['y']\n",
    "X_train, X_test, y_train, y_test = train_test_split(X, y, test_size = 0.20)  "
   ]
  },
  {
   "cell_type": "code",
   "execution_count": 9,
   "metadata": {},
   "outputs": [
    {
     "name": "stdout",
     "output_type": "stream",
     "text": [
      "Inform the number of iterations: 10\n",
      "Inform the number of particles: 100\n"
     ]
    }
   ],
   "source": [
    "#################### I N P U T ####################\n",
    "W = 0.5\n",
    "c1 = 2\n",
    "c2 = 1.05\n",
    "\n",
    "n_iterations = int(input(\"Inform the number of iterations: \"))\n",
    "n_particles = int(input(\"Inform the number of particles: \"))"
   ]
  },
  {
   "cell_type": "code",
   "execution_count": 10,
   "metadata": {},
   "outputs": [],
   "source": [
    "#mencari nilai 0-1 loss dari tiap partikel\n",
    "#partikle = (gamma,C) untuk rbf\n",
    "def fitness_function(position):\n",
    "    svclassifier = SVC(kernel='sigmoid', gamma = position[0], C = position[1] )  \n",
    "    svclassifier.fit(X_train, y_train)\n",
    "    y_train_pred = svclassifier.predict(X_train)\n",
    "    y_test_pred = svclassifier.predict(X_test)   \n",
    "    return (confusion_matrix(y_train,y_train_pred)[0][1] + confusion_matrix(y_train,y_train_pred)[1][0])/np.sum(confusion_matrix(y_train,y_train_pred)), (confusion_matrix(y_test,y_test_pred)[0][1] + confusion_matrix(y_test,y_test_pred)[1][0])/np.sum(confusion_matrix(y_test,y_test_pred))\n",
    "\n",
    "#plotting (x axis = gamma, y axis = C)\n",
    "def plot(position):\n",
    "    x = []\n",
    "    y = []\n",
    "    for i in range(0,len(particle_position_vector)):\n",
    "        x.append(particle_position_vector[i][0])\n",
    "        y.append(particle_position_vector[i][1])\n",
    "    colors = (0,0,0)\n",
    "    plt.scatter(x, y, c = colors, alpha = 0.1)\n",
    "    plt.xlabel('gamma')\n",
    "    plt.ylabel('C')\n",
    "    plt.axis([0,10,0,10])\n",
    "    plt.gca().set_aspect('equal', adjustable='box')\n",
    "    return plt.show()"
   ]
  },
  {
   "cell_type": "code",
   "execution_count": 11,
   "metadata": {
    "scrolled": false
   },
   "outputs": [
    {
     "name": "stderr",
     "output_type": "stream",
     "text": [
      "'c' argument looks like a single numeric RGB or RGBA sequence, which should be avoided as value-mapping will have precedence in case its length matches with 'x' & 'y'.  Please use a 2-D array with a single row if you really want to specify the same RGB or RGBA value for all points.\n"
     ]
    },
    {
     "data": {
      "image/png": "[encoded data removed]",
      "text/plain": [
       "<Figure size 432x288 with 1 Axes>"
      ]
     },
     "metadata": {
      "needs_background": "light"
     },
     "output_type": "display_data"
    },
    {
     "name": "stdout",
     "output_type": "stream",
     "text": [
      "error of particle- 1 is (training, test) (0.1431159420289855, 0.10869565217391304)  At (gamma, c):  [9.70578898e+00 6.12912325e-03]\n",
      "error of particle- 2 is (training, test) (0.2554347826086957, 0.2246376811594203)  At (gamma, c):  [9.03343321 3.95565305]\n",
      "error of particle- 3 is (training, test) (0.2554347826086957, 0.21739130434782608)  At (gamma, c):  [9.92776969 4.72426636]\n",
      "error of particle- 4 is (training, test) (0.26268115942028986, 0.21014492753623187)  At (gamma, c):  [7.42140708 2.71872422]\n",
      "error of particle- 5 is (training, test) (0.26268115942028986, 0.26811594202898553)  At (gamma, c):  [3.06380305 3.13580856]\n",
      "error of particle- 6 is (training, test) (0.2572463768115942, 0.2318840579710145)  At (gamma, c):  [4.4930441  3.71116071]\n",
      "error of particle- 7 is (training, test) (0.25, 0.1956521739130435)  At (gamma, c):  [1.97729196 0.29112951]\n",
      "error of particle- 8 is (training, test) (0.25905797101449274, 0.26811594202898553)  At (gamma, c):  [3.55810102 7.12835117]\n",
      "error of particle- 9 is (training, test) (0.19746376811594202, 0.16666666666666666)  At (gamma, c):  [0.06696429 2.02164769]\n",
      "error of particle- 10 is (training, test) (0.2536231884057971, 0.2318840579710145)  At (gamma, c):  [6.87920658 1.84027072]\n",
      "error of particle- 11 is (training, test) (0.27898550724637683, 0.1956521739130435)  At (gamma, c):  [2.97257524 0.22039873]\n",
      "error of particle- 12 is (training, test) (0.2554347826086957, 0.2246376811594203)  At (gamma, c):  [8.93641887 6.2216353 ]\n",
      "error of particle- 13 is (training, test) (0.2554347826086957, 0.2318840579710145)  At (gamma, c):  [8.4627776  9.64800411]\n",
      "error of particle- 14 is (training, test) (0.2554347826086957, 0.2463768115942029)  At (gamma, c):  [4.78380827 1.97714561]\n",
      "error of particle- 15 is (training, test) (0.2554347826086957, 0.2246376811594203)  At (gamma, c):  [8.02490024 3.63584832]\n",
      "error of particle- 16 is (training, test) (0.28804347826086957, 0.2391304347826087)  At (gamma, c):  [6.04665403 0.63695901]\n",
      "error of particle- 17 is (training, test) (0.25181159420289856, 0.2318840579710145)  At (gamma, c):  [7.90856364 7.91331668]\n",
      "error of particle- 18 is (training, test) (0.2554347826086957, 0.21739130434782608)  At (gamma, c):  [9.66042059 5.54630963]\n",
      "error of particle- 19 is (training, test) (0.2572463768115942, 0.2463768115942029)  At (gamma, c):  [4.00417558 2.30204707]\n",
      "error of particle- 20 is (training, test) (0.25905797101449274, 0.2463768115942029)  At (gamma, c):  [6.46746574 1.09912179]\n",
      "error of particle- 21 is (training, test) (0.2608695652173913, 0.2318840579710145)  At (gamma, c):  [1.30141684 9.82893072]\n",
      "error of particle- 22 is (training, test) (0.25905797101449274, 0.2608695652173913)  At (gamma, c):  [1.6299278  8.49169197]\n",
      "error of particle- 23 is (training, test) (0.29347826086956524, 0.2318840579710145)  At (gamma, c):  [2.26781713 8.84820582]\n",
      "error of particle- 24 is (training, test) (0.2608695652173913, 0.21739130434782608)  At (gamma, c):  [5.72690075 9.06170018]\n",
      "error of particle- 25 is (training, test) (0.2572463768115942, 0.26811594202898553)  At (gamma, c):  [3.87478458 2.20595702]\n",
      "error of particle- 26 is (training, test) (0.28442028985507245, 0.2391304347826087)  At (gamma, c):  [7.28803446 5.31849665]\n",
      "error of particle- 27 is (training, test) (0.27898550724637683, 0.2391304347826087)  At (gamma, c):  [6.19926254 9.13696149]\n",
      "error of particle- 28 is (training, test) (0.2753623188405797, 0.1956521739130435)  At (gamma, c):  [9.14370344 0.53692829]\n",
      "error of particle- 29 is (training, test) (0.2572463768115942, 0.2318840579710145)  At (gamma, c):  [3.04819472 1.98880028]\n",
      "error of particle- 30 is (training, test) (0.2554347826086957, 0.2246376811594203)  At (gamma, c):  [8.01396274 5.07596122]\n",
      "error of particle- 31 is (training, test) (0.25, 0.21739130434782608)  At (gamma, c):  [0.40387273 8.97628848]\n",
      "error of particle- 32 is (training, test) (0.2554347826086957, 0.2318840579710145)  At (gamma, c):  [8.0813949  6.16315547]\n",
      "error of particle- 33 is (training, test) (0.2572463768115942, 0.2318840579710145)  At (gamma, c):  [3.86932098 9.35303291]\n",
      "error of particle- 34 is (training, test) (0.28442028985507245, 0.21739130434782608)  At (gamma, c):  [8.18584646 0.20889634]\n",
      "error of particle- 35 is (training, test) (0.2572463768115942, 0.2463768115942029)  At (gamma, c):  [4.33810686 2.75024015]\n",
      "error of particle- 36 is (training, test) (0.29347826086956524, 0.2246376811594203)  At (gamma, c):  [7.05189978 6.46998009]\n",
      "error of particle- 37 is (training, test) (0.26268115942028986, 0.1956521739130435)  At (gamma, c):  [7.61617645 0.16635817]\n",
      "error of particle- 38 is (training, test) (0.2572463768115942, 0.2463768115942029)  At (gamma, c):  [1.99568385 8.88611415]\n",
      "error of particle- 39 is (training, test) (0.26811594202898553, 0.2028985507246377)  At (gamma, c):  [1.0667997  3.73293025]\n",
      "error of particle- 40 is (training, test) (0.2807971014492754, 0.2318840579710145)  At (gamma, c):  [5.29650824 3.39673032]\n",
      "error of particle- 41 is (training, test) (0.25181159420289856, 0.2536231884057971)  At (gamma, c):  [6.64226586 7.11847025]\n",
      "error of particle- 42 is (training, test) (0.27355072463768115, 0.18115942028985507)  At (gamma, c):  [9.75228976 0.90153518]\n",
      "error of particle- 43 is (training, test) (0.2554347826086957, 0.2536231884057971)  At (gamma, c):  [3.17372028 3.43020208]\n",
      "error of particle- 44 is (training, test) (0.2554347826086957, 0.2028985507246377)  At (gamma, c):  [9.09049294 7.02657604]\n",
      "error of particle- 45 is (training, test) (0.28442028985507245, 0.2318840579710145)  At (gamma, c):  [2.79535234 4.82183979]\n",
      "error of particle- 46 is (training, test) (0.2554347826086957, 0.2246376811594203)  At (gamma, c):  [9.44682015 5.9774904 ]\n",
      "error of particle- 47 is (training, test) (0.2572463768115942, 0.2536231884057971)  At (gamma, c):  [4.56734741 4.28258124]\n",
      "error of particle- 48 is (training, test) (0.2554347826086957, 0.2246376811594203)  At (gamma, c):  [9.11066906 2.03082501]\n",
      "error of particle- 49 is (training, test) (0.2826086956521739, 0.2391304347826087)  At (gamma, c):  [5.58606849 1.7879661 ]\n",
      "error of particle- 50 is (training, test) (0.2826086956521739, 0.2391304347826087)  At (gamma, c):  [6.21604332 3.92523144]\n",
      "error of particle- 51 is (training, test) (0.2554347826086957, 0.2246376811594203)  At (gamma, c):  [9.35202175 5.75791448]\n",
      "error of particle- 52 is (training, test) (0.2572463768115942, 0.2463768115942029)  At (gamma, c):  [4.93827373 9.77284127]\n",
      "error of particle- 53 is (training, test) (0.2554347826086957, 0.2028985507246377)  At (gamma, c):  [9.16296406 5.6600216 ]\n",
      "error of particle- 54 is (training, test) (0.2572463768115942, 0.2463768115942029)  At (gamma, c):  [4.98643031 7.45945473]\n",
      "error of particle- 55 is (training, test) (0.2554347826086957, 0.2246376811594203)  At (gamma, c):  [8.29602275 5.11375084]\n",
      "error of particle- 56 is (training, test) (0.1793478260869565, 0.12318840579710146)  At (gamma, c):  [8.1463914  0.02781893]\n",
      "error of particle- 57 is (training, test) (0.2572463768115942, 0.2246376811594203)  At (gamma, c):  [1.80931594 9.16955928]\n",
      "error of particle- 58 is (training, test) (0.2807971014492754, 0.2318840579710145)  At (gamma, c):  [2.58866542 1.22218177]\n",
      "error of particle- 59 is (training, test) (0.2536231884057971, 0.2391304347826087)  At (gamma, c):  [7.4508432  1.20017858]\n",
      "error of particle- 60 is (training, test) (0.2572463768115942, 0.2463768115942029)  At (gamma, c):  [3.82971721 9.78782936]\n",
      "error of particle- 61 is (training, test) (0.26992753623188404, 0.17391304347826086)  At (gamma, c):  [5.68050751 1.4736841 ]\n",
      "error of particle- 62 is (training, test) (0.28442028985507245, 0.21739130434782608)  At (gamma, c):  [7.66181562 0.42825068]\n",
      "error of particle- 63 is (training, test) (0.2554347826086957, 0.21014492753623187)  At (gamma, c):  [1.79432428 7.71651446]\n",
      "error of particle- 64 is (training, test) (0.2572463768115942, 0.2246376811594203)  At (gamma, c):  [4.12588397 6.74616717]\n",
      "error of particle- 65 is (training, test) (0.2554347826086957, 0.2246376811594203)  At (gamma, c):  [8.92835485 5.67235209]\n",
      "error of particle- 66 is (training, test) (0.2826086956521739, 0.2391304347826087)  At (gamma, c):  [6.29039753 9.46258602]\n",
      "error of particle- 67 is (training, test) (0.2608695652173913, 0.2246376811594203)  At (gamma, c):  [0.60644535 5.92040955]\n",
      "error of particle- 68 is (training, test) (0.266304347826087, 0.2028985507246377)  At (gamma, c):  [1.05540135 6.31856897]\n",
      "error of particle- 69 is (training, test) (0.26268115942028986, 0.21014492753623187)  At (gamma, c):  [0.71439945 5.22475868]\n",
      "error of particle- 70 is (training, test) (0.28442028985507245, 0.2391304347826087)  At (gamma, c):  [5.26044    9.10537911]\n"
     ]
    },
    {
     "name": "stdout",
     "output_type": "stream",
     "text": [
      "error of particle- 71 is (training, test) (0.25181159420289856, 0.2318840579710145)  At (gamma, c):  [7.99986572 9.8674086 ]\n",
      "error of particle- 72 is (training, test) (0.2608695652173913, 0.2608695652173913)  At (gamma, c):  [4.18314256 6.88963989]\n",
      "error of particle- 73 is (training, test) (0.2572463768115942, 0.21739130434782608)  At (gamma, c):  [2.06786118 9.3279995 ]\n",
      "error of particle- 74 is (training, test) (0.2572463768115942, 0.2463768115942029)  At (gamma, c):  [5.04597854 4.01422579]\n",
      "error of particle- 75 is (training, test) (0.28442028985507245, 0.2318840579710145)  At (gamma, c):  [1.69098509 3.37663191]\n",
      "error of particle- 76 is (training, test) (0.266304347826087, 0.2463768115942029)  At (gamma, c):  [2.92912977 5.03805266]\n",
      "error of particle- 77 is (training, test) (0.2554347826086957, 0.2463768115942029)  At (gamma, c):  [4.62830719 8.6271774 ]\n",
      "error of particle- 78 is (training, test) (0.2554347826086957, 0.21014492753623187)  At (gamma, c):  [9.63208716 1.34872576]\n",
      "error of particle- 79 is (training, test) (0.2572463768115942, 0.2318840579710145)  At (gamma, c):  [4.09788247 2.99835201]\n",
      "error of particle- 80 is (training, test) (0.2572463768115942, 0.2463768115942029)  At (gamma, c):  [5.16138087 9.93175121]\n",
      "error of particle- 81 is (training, test) (0.2916666666666667, 0.2463768115942029)  At (gamma, c):  [7.35054882 1.566891  ]\n",
      "error of particle- 82 is (training, test) (0.28442028985507245, 0.2391304347826087)  At (gamma, c):  [7.00593757 9.86102378]\n",
      "error of particle- 83 is (training, test) (0.27355072463768115, 0.21014492753623187)  At (gamma, c):  [2.86735944 0.45538895]\n",
      "error of particle- 84 is (training, test) (0.286231884057971, 0.2391304347826087)  At (gamma, c):  [7.3007977 1.6891927]\n",
      "error of particle- 85 is (training, test) (0.2608695652173913, 0.21739130434782608)  At (gamma, c):  [0.98918037 4.67781259]\n",
      "error of particle- 86 is (training, test) (0.2554347826086957, 0.2246376811594203)  At (gamma, c):  [8.81598292 5.93782902]\n",
      "error of particle- 87 is (training, test) (0.2536231884057971, 0.2318840579710145)  At (gamma, c):  [8.16083525 1.07676216]\n",
      "error of particle- 88 is (training, test) (0.24818840579710144, 0.21739130434782608)  At (gamma, c):  [0.3161662 3.8772813]\n",
      "error of particle- 89 is (training, test) (0.2916666666666667, 0.2318840579710145)  At (gamma, c):  [2.87618656 2.90340585]\n",
      "error of particle- 90 is (training, test) (0.2554347826086957, 0.2463768115942029)  At (gamma, c):  [4.01951949 5.30400144]\n",
      "error of particle- 91 is (training, test) (0.2572463768115942, 0.2318840579710145)  At (gamma, c):  [3.77757575 2.49957042]\n",
      "error of particle- 92 is (training, test) (0.29347826086956524, 0.2246376811594203)  At (gamma, c):  [2.45717794 5.63849642]\n",
      "error of particle- 93 is (training, test) (0.25181159420289856, 0.2318840579710145)  At (gamma, c):  [8.1184963  6.75721138]\n",
      "error of particle- 94 is (training, test) (0.25905797101449274, 0.2028985507246377)  At (gamma, c):  [4.52741151 0.65103274]\n",
      "error of particle- 95 is (training, test) (0.2826086956521739, 0.2391304347826087)  At (gamma, c):  [6.38134004 6.7693149 ]\n",
      "error of particle- 96 is (training, test) (0.2554347826086957, 0.2463768115942029)  At (gamma, c):  [5.20272976 3.63662623]\n",
      "error of particle- 97 is (training, test) (0.2318840579710145, 0.1956521739130435)  At (gamma, c):  [0.13695034 7.4996257 ]\n",
      "error of particle- 98 is (training, test) (0.26268115942028986, 0.2028985507246377)  At (gamma, c):  [1.93281174 6.95647215]\n",
      "error of particle- 99 is (training, test) (0.2608695652173913, 0.2463768115942029)  At (gamma, c):  [4.19187048 4.7773621 ]\n"
     ]
    },
    {
     "name": "stderr",
     "output_type": "stream",
     "text": [
      "'c' argument looks like a single numeric RGB or RGBA sequence, which should be avoided as value-mapping will have precedence in case its length matches with 'x' & 'y'.  Please use a 2-D array with a single row if you really want to specify the same RGB or RGBA value for all points.\n"
     ]
    },
    {
     "name": "stdout",
     "output_type": "stream",
     "text": [
      "error of particle- 100 is (training, test) (0.2826086956521739, 0.2391304347826087)  At (gamma, c):  [6.21633992 4.31509151]\n"
     ]
    },
    {
     "data": {
      "image/png": "[encoded data removed]",
      "text/plain": [
       "<Figure size 432x288 with 1 Axes>"
      ]
     },
     "metadata": {
      "needs_background": "light"
     },
     "output_type": "display_data"
    },
    {
     "name": "stdout",
     "output_type": "stream",
     "text": [
      "error of particle- 1 is (training, test) (0.1431159420289855, 0.10869565217391304)  At (gamma, c):  [9.70578898e+00 6.12912325e-03]\n",
      "error of particle- 2 is (training, test) (0.2554347826086957, 0.2246376811594203)  At (gamma, c):  [9.19378413 3.01372645]\n",
      "error of particle- 3 is (training, test) (0.2536231884057971, 0.21739130434782608)  At (gamma, c):  [9.8824422  3.76084338]\n",
      "error of particle- 4 is (training, test) (0.25181159420289856, 0.2246376811594203)  At (gamma, c):  [8.28643728 1.69154191]\n",
      "error of particle- 5 is (training, test) (0.2572463768115942, 0.2536231884057971)  At (gamma, c):  [6.45504789 1.53786641]\n",
      "error of particle- 6 is (training, test) (0.2807971014492754, 0.2318840579710145)  At (gamma, c):  [6.23916147 2.47008328]\n",
      "error of particle- 7 is (training, test) (0.2536231884057971, 0.2028985507246377)  At (gamma, c):  [6.87148032 0.11064868]\n",
      "error of particle- 8 is (training, test) (0.2572463768115942, 0.2463768115942029)  At (gamma, c):  [3.80493895 6.84238439]\n",
      "error of particle- 9 is (training, test) (0.28442028985507245, 0.2246376811594203)  At (gamma, c):  [7.47596464 0.47239472]\n",
      "error of particle- 10 is (training, test) (0.28442028985507245, 0.2391304347826087)  At (gamma, c):  [7.68823718 1.3152987 ]\n",
      "error of particle- 11 is (training, test) (0.14855072463768115, 0.11594202898550725)  At (gamma, c):  [9.67051022e+00 7.25179161e-03]\n",
      "error of particle- 12 is (training, test) (0.2554347826086957, 0.2246376811594203)  At (gamma, c):  [9.40990729 2.39646692]\n",
      "error of particle- 13 is (training, test) (0.2554347826086957, 0.2246376811594203)  At (gamma, c):  [8.83607152 6.75241254]\n",
      "error of particle- 14 is (training, test) (0.2608695652173913, 0.21739130434782608)  At (gamma, c):  [8.18502083 0.6151236 ]\n",
      "error of particle- 15 is (training, test) (0.2554347826086957, 0.2318840579710145)  At (gamma, c):  [9.08359808 1.34969114]\n",
      "error of particle- 16 is (training, test) (0.2916666666666667, 0.2391304347826087)  At (gamma, c):  [6.3517402  0.58436257]\n",
      "error of particle- 17 is (training, test) (0.2554347826086957, 0.2246376811594203)  At (gamma, c):  [8.85855281 3.73368359]\n",
      "error of particle- 18 is (training, test) (0.2554347826086957, 0.2246376811594203)  At (gamma, c):  [9.67438977 3.84045732]\n",
      "error of particle- 19 is (training, test) (0.2753623188405797, 0.1956521739130435)  At (gamma, c):  [7.78664444 0.77892764]\n",
      "error of particle- 20 is (training, test) (0.2916666666666667, 0.2391304347826087)  At (gamma, c):  [7.31978819 0.81144755]\n",
      "error of particle- 21 is (training, test) (0.2807971014492754, 0.2463768115942029)  At (gamma, c):  [5.96929853 4.37323754]\n",
      "error of particle- 22 is (training, test) (0.2898550724637681, 0.2246376811594203)  At (gamma, c):  [8.54632881 1.22441061]\n",
      "error of particle- 23 is (training, test) (0.2572463768115942, 0.2246376811594203)  At (gamma, c):  [3.94544124 6.85388783]\n",
      "error of particle- 24 is (training, test) (0.2644927536231884, 0.1956521739130435)  At (gamma, c):  [9.34423581 0.82898975]\n",
      "error of particle- 25 is (training, test) (0.2807971014492754, 0.2391304347826087)  At (gamma, c):  [5.80434807 1.47800223]\n",
      "error of particle- 26 is (training, test) (0.25181159420289856, 0.2318840579710145)  At (gamma, c):  [8.39701549 2.88180807]\n",
      "error of particle- 27 is (training, test) (0.29347826086956524, 0.2246376811594203)  At (gamma, c):  [7.14828134 6.6657605 ]\n",
      "error of particle- 28 is (training, test) (0.2753623188405797, 0.1956521739130435)  At (gamma, c):  [9.16419328 0.51757894]\n",
      "error of particle- 29 is (training, test) (0.2826086956521739, 0.2391304347826087)  At (gamma, c):  [5.92176464 1.13303407]\n",
      "error of particle- 30 is (training, test) (0.2554347826086957, 0.2318840579710145)  At (gamma, c):  [9.29270976 1.24398811]\n",
      "error of particle- 31 is (training, test) (0.2572463768115942, 0.2463768115942029)  At (gamma, c):  [4.29769073 5.2213452 ]\n",
      "error of particle- 32 is (training, test) (0.2554347826086957, 0.2318840579710145)  At (gamma, c):  [8.11456417 6.03743223]\n",
      "error of particle- 33 is (training, test) (0.2608695652173913, 0.21739130434782608)  At (gamma, c):  [5.70575033 6.41205415]\n",
      "error of particle- 34 is (training, test) (0.2463768115942029, 0.17391304347826086)  At (gamma, c):  [9.15784497 0.07922734]\n",
      "error of particle- 35 is (training, test) (0.2898550724637681, 0.2391304347826087)  At (gamma, c):  [7.15052341 1.31245321]\n",
      "error of particle- 36 is (training, test) (0.27355072463768115, 0.2246376811594203)  At (gamma, c):  [9.6117309  0.23521834]\n",
      "error of particle- 37 is (training, test) (0.24818840579710144, 0.16666666666666666)  At (gamma, c):  [8.83227331 0.07310928]\n",
      "error of particle- 38 is (training, test) (0.2644927536231884, 0.2028985507246377)  At (gamma, c):  [7.71615894 2.29765235]\n",
      "error of particle- 39 is (training, test) (0.286231884057971, 0.2391304347826087)  At (gamma, c):  [6.37638393 1.44241178]\n",
      "error of particle- 40 is (training, test) (0.2898550724637681, 0.21014492753623187)  At (gamma, c):  [9.16740666 0.42012856]\n",
      "error of particle- 41 is (training, test) (0.25181159420289856, 0.2318840579710145)  At (gamma, c):  [8.58429387 2.60981627]\n",
      "error of particle- 42 is (training, test) (0.2717391304347826, 0.21739130434782608)  At (gamma, c):  [9.71938867 0.26800094]\n",
      "error of particle- 43 is (training, test) (0.23550724637681159, 0.15942028985507245)  At (gamma, c):  [9.59309094 0.06520479]\n",
      "error of particle- 44 is (training, test) (0.2554347826086957, 0.1956521739130435)  At (gamma, c):  [9.23912709 5.33067997]\n",
      "error of particle- 45 is (training, test) (0.26268115942028986, 0.1956521739130435)  At (gamma, c):  [9.51202176 0.14116066]\n",
      "error of particle- 46 is (training, test) (0.2536231884057971, 0.2318840579710145)  At (gamma, c):  [9.66623371 0.91820342]\n",
      "error of particle- 47 is (training, test) (0.26811594202898553, 0.1956521739130435)  At (gamma, c):  [8.74002972 0.80987928]\n",
      "error of particle- 48 is (training, test) (0.2536231884057971, 0.2318840579710145)  At (gamma, c):  [9.23092737 1.62168645]\n",
      "error of particle- 49 is (training, test) (0.286231884057971, 0.2391304347826087)  At (gamma, c):  [6.25386433 1.49913502]\n",
      "error of particle- 50 is (training, test) (0.2554347826086957, 0.2246376811594203)  At (gamma, c):  [6.86483945 3.19661146]\n",
      "error of particle- 51 is (training, test) (0.2554347826086957, 0.2246376811594203)  At (gamma, c):  [9.53067567 2.85323903]\n",
      "error of particle- 52 is (training, test) (0.28442028985507245, 0.21739130434782608)  At (gamma, c):  [5.24071994 9.15325121]\n",
      "error of particle- 53 is (training, test) (0.2554347826086957, 0.2246376811594203)  At (gamma, c):  [9.37064326 3.49690082]\n",
      "error of particle- 54 is (training, test) (0.28442028985507245, 0.2391304347826087)  At (gamma, c):  [7.5141142  3.46746081]\n",
      "error of particle- 55 is (training, test) (0.2554347826086957, 0.2246376811594203)  At (gamma, c):  [8.65090149 3.82801542]\n",
      "error of particle- 56 is (training, test) (0.14673913043478262, 0.10869565217391304)  At (gamma, c):  [9.44040248 0.00982041]\n",
      "error of particle- 57 is (training, test) (0.26268115942028986, 0.18115942028985507)  At (gamma, c):  [9.5289703  0.21131765]\n",
      "error of particle- 58 is (training, test) (0.2826086956521739, 0.2246376811594203)  At (gamma, c):  [7.10714913 0.45014037]\n",
      "error of particle- 59 is (training, test) (0.26268115942028986, 0.18840579710144928)  At (gamma, c):  [8.63494116 0.57316948]\n",
      "error of particle- 60 is (training, test) (0.26811594202898553, 0.1956521739130435)  At (gamma, c):  [8.81886119 1.48256816]\n",
      "error of particle- 61 is (training, test) (0.29347826086956524, 0.2463768115942029)  At (gamma, c):  [6.26105014 1.26202729]\n",
      "error of particle- 62 is (training, test) (0.20833333333333334, 0.16666666666666666)  At (gamma, c):  [9.50356994 0.04789142]\n"
     ]
    },
    {
     "ename": "ValueError",
     "evalue": "C <= 0",
     "output_type": "error",
     "traceback": [
      "\u001b[1;31m---------------------------------------------------------------------------\u001b[0m",
      "\u001b[1;31mValueError\u001b[0m                                Traceback (most recent call last)",
      "\u001b[1;32m<ipython-input-11-533a70a1b113>\u001b[0m in \u001b[0;36m<module>\u001b[1;34m\u001b[0m\n\u001b[0;32m     10\u001b[0m     \u001b[0mplot\u001b[0m\u001b[1;33m(\u001b[0m\u001b[0mparticle_position_vector\u001b[0m\u001b[1;33m)\u001b[0m\u001b[1;33m\u001b[0m\u001b[1;33m\u001b[0m\u001b[0m\n\u001b[0;32m     11\u001b[0m     \u001b[1;32mfor\u001b[0m \u001b[0mi\u001b[0m \u001b[1;32min\u001b[0m \u001b[0mrange\u001b[0m\u001b[1;33m(\u001b[0m\u001b[0mn_particles\u001b[0m\u001b[1;33m)\u001b[0m\u001b[1;33m:\u001b[0m\u001b[1;33m\u001b[0m\u001b[1;33m\u001b[0m\u001b[0m\n\u001b[1;32m---> 12\u001b[1;33m         \u001b[0mfitness_cadidate\u001b[0m \u001b[1;33m=\u001b[0m \u001b[0mfitness_function\u001b[0m\u001b[1;33m(\u001b[0m\u001b[0mparticle_position_vector\u001b[0m\u001b[1;33m[\u001b[0m\u001b[0mi\u001b[0m\u001b[1;33m]\u001b[0m\u001b[1;33m)\u001b[0m\u001b[1;33m\u001b[0m\u001b[1;33m\u001b[0m\u001b[0m\n\u001b[0m\u001b[0;32m     13\u001b[0m         \u001b[0mprint\u001b[0m\u001b[1;33m(\u001b[0m\u001b[1;34m\"error of particle-\"\u001b[0m\u001b[1;33m,\u001b[0m\u001b[0mi\u001b[0m\u001b[1;33m+\u001b[0m\u001b[1;36m1\u001b[0m\u001b[1;33m,\u001b[0m\u001b[1;34m\"is (training, test)\"\u001b[0m\u001b[1;33m,\u001b[0m \u001b[0mfitness_cadidate\u001b[0m\u001b[1;33m,\u001b[0m \u001b[1;34m\" At (gamma, c): \"\u001b[0m\u001b[1;33m,\u001b[0m \u001b[0mparticle_position_vector\u001b[0m\u001b[1;33m[\u001b[0m\u001b[0mi\u001b[0m\u001b[1;33m]\u001b[0m\u001b[1;33m)\u001b[0m\u001b[1;33m\u001b[0m\u001b[1;33m\u001b[0m\u001b[0m\n\u001b[0;32m     14\u001b[0m \u001b[1;33m\u001b[0m\u001b[0m\n",
      "\u001b[1;32m<ipython-input-10-3f8056f8c727>\u001b[0m in \u001b[0;36mfitness_function\u001b[1;34m(position)\u001b[0m\n\u001b[0;32m      3\u001b[0m \u001b[1;32mdef\u001b[0m \u001b[0mfitness_function\u001b[0m\u001b[1;33m(\u001b[0m\u001b[0mposition\u001b[0m\u001b[1;33m)\u001b[0m\u001b[1;33m:\u001b[0m\u001b[1;33m\u001b[0m\u001b[1;33m\u001b[0m\u001b[0m\n\u001b[0;32m      4\u001b[0m     \u001b[0msvclassifier\u001b[0m \u001b[1;33m=\u001b[0m \u001b[0mSVC\u001b[0m\u001b[1;33m(\u001b[0m\u001b[0mkernel\u001b[0m\u001b[1;33m=\u001b[0m\u001b[1;34m'sigmoid'\u001b[0m\u001b[1;33m,\u001b[0m \u001b[0mgamma\u001b[0m \u001b[1;33m=\u001b[0m \u001b[0mposition\u001b[0m\u001b[1;33m[\u001b[0m\u001b[1;36m0\u001b[0m\u001b[1;33m]\u001b[0m\u001b[1;33m,\u001b[0m \u001b[0mC\u001b[0m \u001b[1;33m=\u001b[0m \u001b[0mposition\u001b[0m\u001b[1;33m[\u001b[0m\u001b[1;36m1\u001b[0m\u001b[1;33m]\u001b[0m \u001b[1;33m)\u001b[0m\u001b[1;33m\u001b[0m\u001b[1;33m\u001b[0m\u001b[0m\n\u001b[1;32m----> 5\u001b[1;33m     \u001b[0msvclassifier\u001b[0m\u001b[1;33m.\u001b[0m\u001b[0mfit\u001b[0m\u001b[1;33m(\u001b[0m\u001b[0mX_train\u001b[0m\u001b[1;33m,\u001b[0m \u001b[0my_train\u001b[0m\u001b[1;33m)\u001b[0m\u001b[1;33m\u001b[0m\u001b[1;33m\u001b[0m\u001b[0m\n\u001b[0m\u001b[0;32m      6\u001b[0m     \u001b[0my_train_pred\u001b[0m \u001b[1;33m=\u001b[0m \u001b[0msvclassifier\u001b[0m\u001b[1;33m.\u001b[0m\u001b[0mpredict\u001b[0m\u001b[1;33m(\u001b[0m\u001b[0mX_train\u001b[0m\u001b[1;33m)\u001b[0m\u001b[1;33m\u001b[0m\u001b[1;33m\u001b[0m\u001b[0m\n\u001b[0;32m      7\u001b[0m     \u001b[0my_test_pred\u001b[0m \u001b[1;33m=\u001b[0m \u001b[0msvclassifier\u001b[0m\u001b[1;33m.\u001b[0m\u001b[0mpredict\u001b[0m\u001b[1;33m(\u001b[0m\u001b[0mX_test\u001b[0m\u001b[1;33m)\u001b[0m\u001b[1;33m\u001b[0m\u001b[1;33m\u001b[0m\u001b[0m\n",
      "\u001b[1;32mD:\\CONDA\\lib\\site-packages\\sklearn\\svm\\base.py\u001b[0m in \u001b[0;36mfit\u001b[1;34m(self, X, y, sample_weight)\u001b[0m\n\u001b[0;32m    210\u001b[0m \u001b[1;33m\u001b[0m\u001b[0m\n\u001b[0;32m    211\u001b[0m         \u001b[0mseed\u001b[0m \u001b[1;33m=\u001b[0m \u001b[0mrnd\u001b[0m\u001b[1;33m.\u001b[0m\u001b[0mrandint\u001b[0m\u001b[1;33m(\u001b[0m\u001b[0mnp\u001b[0m\u001b[1;33m.\u001b[0m\u001b[0miinfo\u001b[0m\u001b[1;33m(\u001b[0m\u001b[1;34m'i'\u001b[0m\u001b[1;33m)\u001b[0m\u001b[1;33m.\u001b[0m\u001b[0mmax\u001b[0m\u001b[1;33m)\u001b[0m\u001b[1;33m\u001b[0m\u001b[1;33m\u001b[0m\u001b[0m\n\u001b[1;32m--> 212\u001b[1;33m         \u001b[0mfit\u001b[0m\u001b[1;33m(\u001b[0m\u001b[0mX\u001b[0m\u001b[1;33m,\u001b[0m \u001b[0my\u001b[0m\u001b[1;33m,\u001b[0m \u001b[0msample_weight\u001b[0m\u001b[1;33m,\u001b[0m \u001b[0msolver_type\u001b[0m\u001b[1;33m,\u001b[0m \u001b[0mkernel\u001b[0m\u001b[1;33m,\u001b[0m \u001b[0mrandom_seed\u001b[0m\u001b[1;33m=\u001b[0m\u001b[0mseed\u001b[0m\u001b[1;33m)\u001b[0m\u001b[1;33m\u001b[0m\u001b[1;33m\u001b[0m\u001b[0m\n\u001b[0m\u001b[0;32m    213\u001b[0m         \u001b[1;31m# see comment on the other call to np.iinfo in this file\u001b[0m\u001b[1;33m\u001b[0m\u001b[1;33m\u001b[0m\u001b[1;33m\u001b[0m\u001b[0m\n\u001b[0;32m    214\u001b[0m \u001b[1;33m\u001b[0m\u001b[0m\n",
      "\u001b[1;32mD:\\CONDA\\lib\\site-packages\\sklearn\\svm\\base.py\u001b[0m in \u001b[0;36m_dense_fit\u001b[1;34m(self, X, y, sample_weight, solver_type, kernel, random_seed)\u001b[0m\n\u001b[0;32m    269\u001b[0m                 \u001b[0mcache_size\u001b[0m\u001b[1;33m=\u001b[0m\u001b[0mself\u001b[0m\u001b[1;33m.\u001b[0m\u001b[0mcache_size\u001b[0m\u001b[1;33m,\u001b[0m \u001b[0mcoef0\u001b[0m\u001b[1;33m=\u001b[0m\u001b[0mself\u001b[0m\u001b[1;33m.\u001b[0m\u001b[0mcoef0\u001b[0m\u001b[1;33m,\u001b[0m\u001b[1;33m\u001b[0m\u001b[1;33m\u001b[0m\u001b[0m\n\u001b[0;32m    270\u001b[0m                 \u001b[0mgamma\u001b[0m\u001b[1;33m=\u001b[0m\u001b[0mself\u001b[0m\u001b[1;33m.\u001b[0m\u001b[0m_gamma\u001b[0m\u001b[1;33m,\u001b[0m \u001b[0mepsilon\u001b[0m\u001b[1;33m=\u001b[0m\u001b[0mself\u001b[0m\u001b[1;33m.\u001b[0m\u001b[0mepsilon\u001b[0m\u001b[1;33m,\u001b[0m\u001b[1;33m\u001b[0m\u001b[1;33m\u001b[0m\u001b[0m\n\u001b[1;32m--> 271\u001b[1;33m                 max_iter=self.max_iter, random_seed=random_seed)\n\u001b[0m\u001b[0;32m    272\u001b[0m \u001b[1;33m\u001b[0m\u001b[0m\n\u001b[0;32m    273\u001b[0m         \u001b[0mself\u001b[0m\u001b[1;33m.\u001b[0m\u001b[0m_warn_from_fit_status\u001b[0m\u001b[1;33m(\u001b[0m\u001b[1;33m)\u001b[0m\u001b[1;33m\u001b[0m\u001b[1;33m\u001b[0m\u001b[0m\n",
      "\u001b[1;32msklearn\\svm\\libsvm.pyx\u001b[0m in \u001b[0;36msklearn.svm.libsvm.fit\u001b[1;34m()\u001b[0m\n",
      "\u001b[1;31mValueError\u001b[0m: C <= 0"
     ]
    }
   ],
   "source": [
    "particle_position_vector = np.array([np.array([random.random()*10, random.random()*10]) for _ in range(n_particles)])\n",
    "pbest_position = particle_position_vector\n",
    "pbest_fitness_value = np.array([float('inf') for _ in range(n_particles)])\n",
    "gbest_fitness_value = np.array([float('inf'), float('inf')])\n",
    "gbest_position = np.array([float('inf'), float('inf')])\n",
    "\n",
    "velocity_vector = ([np.array([0, 0]) for _ in range(n_particles)])\n",
    "iteration = 0\n",
    "while iteration < n_iterations:\n",
    "    plot(particle_position_vector)\n",
    "    for i in range(n_particles):\n",
    "        fitness_cadidate = fitness_function(particle_position_vector[i])\n",
    "        print(\"error of particle-\",i+1,\"is (training, test)\", fitness_cadidate, \" At (gamma, c): \", particle_position_vector[i])\n",
    "        \n",
    "        if(pbest_fitness_value[i] > fitness_cadidate[1]):\n",
    "            pbest_fitness_value[i] = fitness_cadidate[1]\n",
    "            pbest_position[i] = particle_position_vector[i]\n",
    "\n",
    "        if(gbest_fitness_value[1] > fitness_cadidate[1]):\n",
    "            gbest_fitness_value = fitness_cadidate\n",
    "            gbest_position = particle_position_vector[i]\n",
    "        elif(gbest_fitness_value[1] == fitness_cadidate[1] and gbest_fitness_value[0] > fitness_cadidate[0]):\n",
    "            gbest_fitness_value = fitness_cadidate\n",
    "            gbest_position = particle_position_vector[i]\n",
    "            \n",
    "    for i in range(n_particles):\n",
    "        new_velocity = (W*velocity_vector[i]) + (c1*random.random()) * (pbest_position[i] - particle_position_vector[i]) + (c2*random.random()) * (gbest_position-particle_position_vector[i])\n",
    "        new_position = new_velocity + particle_position_vector[i]\n",
    "        particle_position_vector[i] = new_position\n",
    "        \n",
    "    iteration = iteration + 1\n",
    "    \n",
    "print(\"The best position is \", gbest_position, \"in iteration number\", iteration, \"with error rate (train, test):\", fitness_function(gbest_position))"
   ]
  },
  {
   "cell_type": "code",
   "execution_count": null,
   "metadata": {},
   "outputs": [],
   "source": []
  },
  {
   "cell_type": "code",
   "execution_count": null,
   "metadata": {},
   "outputs": [],
   "source": []
  }
 ],
 "metadata": {
  "kernelspec": {
   "display_name": "Python 3",
   "language": "python",
   "name": "python3"
  },
  "language_info": {
   "codemirror_mode": {
    "name": "ipython",
    "version": 3
   },
   "file_extension": ".py",
   "mimetype": "text/x-python",
   "name": "python",
   "nbconvert_exporter": "python",
   "pygments_lexer": "ipython3",
   "version": "3.6.8"
  }
 },
 "nbformat": 4,
 "nbformat_minor": 2
}
