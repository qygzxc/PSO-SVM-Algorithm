{
 "cells": [
  {
   "cell_type": "code",
   "execution_count": 1,
   "metadata": {},
   "outputs": [],
   "source": [
    "import pandas as pd\n",
    "import numpy as np\n",
    "import math\n",
    "import random\n",
    "import csv\n",
    "from sklearn.model_selection import KFold\n",
    "from sklearn.model_selection import cross_val_score\n",
    "from sklearn.svm import SVC\n",
    "from sklearn.metrics import classification_report, confusion_matrix\n",
    "import matplotlib.pyplot as plt\n",
    "from time import time"
   ]
  },
  {
   "cell_type": "code",
   "execution_count": 2,
   "metadata": {
    "scrolled": true
   },
   "outputs": [
    {
     "data": {
      "text/plain": [
       "0    383\n",
       "1    307\n",
       "Name: y, dtype: int64"
      ]
     },
     "execution_count": 2,
     "metadata": {},
     "output_type": "execute_result"
    }
   ],
   "source": [
    "url = \"D:\\\\TUGAS AKHIR\\\\Data TA\\\\Australian fraud dataset\\\\australian.csv\"\n",
    "colnames = ['x1', 'x2', 'x3','x4','x5','x6','x7','x8','x9','x10','x11','x12','x13','x14', 'y']\n",
    "\n",
    "data = pd.read_csv(url, header = None, names = colnames)\n",
    "data[\"y\"].value_counts()"
   ]
  },
  {
   "cell_type": "code",
   "execution_count": 3,
   "metadata": {},
   "outputs": [],
   "source": [
    "X = data.drop('y', axis = 1)\n",
    "X = (X-X.mean())/X.std()\n",
    "y = data['y']"
   ]
  },
  {
   "cell_type": "code",
   "execution_count": 4,
   "metadata": {},
   "outputs": [],
   "source": [
    "#################### I N P U T ####################\n",
    "c1 = 0.9\n",
    "c2 = 0.5\n",
    "wmax = 0.9\n",
    "wmin = 0.4\n",
    "w = wmax\n",
    "\n",
    "n_iterations = 10\n",
    "n_particles = 100"
   ]
  },
  {
   "cell_type": "code",
   "execution_count": 5,
   "metadata": {},
   "outputs": [],
   "source": [
    "#mencari nilai 0-1 loss dari tiap partikel\n",
    "#partikle = (gamma,C) untuk rbf\n",
    "def fitness_function(position):\n",
    "    kf = KFold(n_splits = 3)\n",
    "    svclassifier = SVC(kernel='rbf', gamma = position[0], C = position[1] )  \n",
    "   # svclassifier.fit(X_train, y_train)\n",
    "    scores = cross_val_score(svclassifier, X, y, cv = kf, scoring = 'roc_auc')\n",
    "    return np.mean(scores)\n",
    "   # y_train_pred = svclassifier.predict(X_train)\n",
    "   # y_test_pred = svclassifier.predict(X_test)   \n",
    "   # return (confusion_matrix(y_train,y_train_pred)[0][1] + confusion_matrix(y_train,y_train_pred)[1][0])/np.sum(confusion_matrix(y_train,y_train_pred)), (confusion_matrix(y_test,y_test_pred)[0][1] + confusion_matrix(y_test,y_test_pred)[1][0])/np.sum(confusion_matrix(y_test,y_test_pred))\n",
    "\n",
    "#plotting (x axis = gamma, y axis = C)\n",
    "def plot(position):\n",
    "    x = []\n",
    "    y = []\n",
    "    for i in range(0,len(particle_position_vector)):\n",
    "        x.append(particle_position_vector[i][0])\n",
    "        y.append(particle_position_vector[i][1])\n",
    "    colors = (0,0,0)\n",
    "    plt.scatter(x, y, c = colors, alpha = 0.3)\n",
    "    plt.xlabel('gamma')\n",
    "    plt.ylabel('C')\n",
    "    plt.axis([-1,11,-1,11])\n",
    "    plt.gca().set_aspect('equal', adjustable='box')\n",
    "    return plt.show()\n",
    "\n",
    "for i in range(n_particles):\n",
    "    max_velocity = np.array([10,10])\n",
    "    min_velocity = np.array([-10,-10])\n",
    "    max_position = np.array([10,10])\n",
    "    min_position = np.array([0.001, 0.001])\n",
    "\n",
    "def eval_velocity(new_velocity):\n",
    "    for j in range(0,2):\n",
    "        if(new_velocity[j] > max_velocity[j]):\n",
    "            new_velocity[j] = max_velocity[j]\n",
    "        elif(new_velocity[j] < min_velocity[j]):\n",
    "            new_velocity[j] = min_velocity[j]\n",
    "    return new_velocity\n",
    "\n",
    "def eval_position(particle_position_vector):\n",
    "    for j in range(0,2):\n",
    "        if(particle_position_vector[j] > max_position[j]):\n",
    "            particle_position_vector[j] = max_position[j]\n",
    "        elif(particle_position_vector[j] < min_position[j]):\n",
    "            particle_position_vector[j] = min_position[j]\n",
    "    return particle_position_vector\n",
    "        "
   ]
  },
  {
   "cell_type": "code",
   "execution_count": 6,
   "metadata": {},
   "outputs": [],
   "source": [
    "particle_position_vector = np.array([np.array([random.random()*10, random.random()*10]) for _ in range(n_particles)])\n",
    "pbest_position = particle_position_vector\n",
    "pbest_fitness_value = np.array([0 for _ in range(n_particles)])\n",
    "gbest_fitness_value = np.array([0])\n",
    "gbest_position = np.array([float('inf'), float('inf')])\n",
    "velocity_vector = np.array([np.array([(-1) ** (bool(random.getrandbits(1)))*random.random()*2,(-1) ** (bool(random.getrandbits(1))) * random.random()*2]) for _ in range(n_particles)])\n",
    "#velocity_vector = ([np.array([0, 0]) for _ in range(n_particles)])\n",
    "iteration = 0"
   ]
  },
  {
   "cell_type": "code",
   "execution_count": null,
   "metadata": {
    "scrolled": false
   },
   "outputs": [
    {
     "name": "stderr",
     "output_type": "stream",
     "text": [
      "'c' argument looks like a single numeric RGB or RGBA sequence, which should be avoided as value-mapping will have precedence in case its length matches with 'x' & 'y'.  Please use a 2-D array with a single row if you really want to specify the same RGB or RGBA value for all points.\n"
     ]
    },
    {
     "data": {
      "image/png": "[encoded data removed]",
      "text/plain": [
       "<Figure size 432x288 with 1 Axes>"
      ]
     },
     "metadata": {
      "needs_background": "light"
     },
     "output_type": "display_data"
    },
    {
     "name": "stdout",
     "output_type": "stream",
     "text": [
      "AUC for particle - 1 is 0.81552811786162  At (gamma, c):  [5.79914628 4.3623787 ] .. Time =  0.19201040267944336\n",
      "AUC for particle - 2 is 0.8106357144684568  At (gamma, c):  [7.16628816 8.93554505] .. Time =  0.13799667358398438\n",
      "AUC for particle - 3 is 0.9116707652160564  At (gamma, c):  [0.15237573 0.61347629] .. Time =  0.09399747848510742\n",
      "AUC for particle - 4 is 0.8046812963023876  At (gamma, c):  [8.54572975 9.96980394] .. Time =  0.1320197582244873\n",
      "AUC for particle - 5 is 0.8166902229093341  At (gamma, c):  [5.09520846 9.48668086] .. Time =  0.1440122127532959\n",
      "AUC for particle - 6 is 0.8163196298367378  At (gamma, c):  [4.88389331 0.19325558] .. Time =  0.13599562644958496\n",
      "AUC for particle - 7 is 0.8207027605086089  At (gamma, c):  [3.30276406 6.16208561] .. Time =  0.1759946346282959\n",
      "AUC for particle - 8 is 0.8201662459933701  At (gamma, c):  [3.5621785  3.67474123] .. Time =  0.16000676155090332\n",
      "AUC for particle - 9 is 0.8212776509544643  At (gamma, c):  [3.07280562 1.48695773] .. Time =  0.14600038528442383\n",
      "AUC for particle - 10 is 0.8203581256464517  At (gamma, c):  [3.46253485 9.97469775] .. Time =  0.14299654960632324\n",
      "AUC for particle - 11 is 0.8352069793025813  At (gamma, c):  [1.02754514 6.35691299] .. Time =  0.1290125846862793\n",
      "AUC for particle - 12 is 0.8201154523425765  At (gamma, c):  [3.62179405 9.69569546] .. Time =  0.16899609565734863\n",
      "AUC for particle - 13 is 0.8460231381277663  At (gamma, c):  [1.0234391  0.89197196] .. Time =  0.1580662727355957\n",
      "AUC for particle - 14 is 0.8139280915466962  At (gamma, c):  [6.41240374 3.90745228] .. Time =  0.15503287315368652\n",
      "AUC for particle - 15 is 0.8208304931489826  At (gamma, c):  [3.20094157 5.85908923] .. Time =  0.14400053024291992\n",
      "AUC for particle - 16 is 0.811045151292538  At (gamma, c):  [6.87278538 7.95788581] .. Time =  0.1450366973876953\n",
      "AUC for particle - 17 is 0.8172360675270185  At (gamma, c):  [4.79047257 3.16417003] .. Time =  0.13724374771118164\n",
      "AUC for particle - 18 is 0.8580901300761306  At (gamma, c):  [0.32044705 8.3445228 ] .. Time =  0.1239919662475586\n",
      "AUC for particle - 19 is 0.8155413776593606  At (gamma, c):  [5.60319351 4.04877337] .. Time =  0.1439981460571289\n",
      "AUC for particle - 20 is 0.8218768154556318  At (gamma, c):  [2.76683063 4.15996099] .. Time =  0.14599609375\n",
      "AUC for particle - 21 is 0.8326302979799641  At (gamma, c):  [1.3006176  4.80375567] .. Time =  0.12599802017211914\n",
      "AUC for particle - 22 is 0.806599063627293  At (gamma, c):  [7.80861263 3.60156937] .. Time =  0.154998779296875\n",
      "AUC for particle - 23 is 0.8202807188360032  At (gamma, c):  [3.73951295 5.7407812 ] .. Time =  0.14700007438659668\n",
      "AUC for particle - 24 is 0.8113264812195505  At (gamma, c):  [6.82621398 9.49616738] .. Time =  0.1380305290222168\n",
      "AUC for particle - 25 is 0.8198974273507084  At (gamma, c):  [4.06796096 4.12661746] .. Time =  0.14700889587402344\n",
      "AUC for particle - 26 is 0.8263562938353637  At (gamma, c):  [1.58445852 7.76180461] .. Time =  0.13999509811401367\n",
      "AUC for particle - 27 is 0.8254711475134225  At (gamma, c):  [1.96878732 0.08114899] .. Time =  0.11205792427062988\n",
      "AUC for particle - 28 is 0.8313272004941358  At (gamma, c):  [1.3499669  7.23802929] .. Time =  0.13397955894470215\n",
      "AUC for particle - 29 is 0.8149912290896864  At (gamma, c):  [5.88433756 8.76835472] .. Time =  0.19499707221984863\n",
      "AUC for particle - 30 is 0.8196934106699706  At (gamma, c):  [4.26887364 5.66811189] .. Time =  0.2130286693572998\n",
      "AUC for particle - 31 is 0.85445124685226  At (gamma, c):  [0.83831403 0.96324337] .. Time =  0.15000152587890625\n",
      "AUC for particle - 32 is 0.9012730663099532  At (gamma, c):  [0.17771155 1.22410047] .. Time =  0.11401057243347168\n",
      "AUC for particle - 33 is 0.8077359589779576  At (gamma, c):  [7.68899509 3.08021184] .. Time =  0.13701558113098145\n",
      "AUC for particle - 34 is 0.8146063470134389  At (gamma, c):  [6.11246744 3.78533307] .. Time =  0.15505266189575195\n",
      "AUC for particle - 35 is 0.84476337547376  At (gamma, c):  [0.72585119 4.46851594] .. Time =  0.1269969940185547\n",
      "AUC for particle - 36 is 0.8106372114952359  At (gamma, c):  [7.06531899 4.01524425] .. Time =  0.1399993896484375\n",
      "AUC for particle - 37 is 0.8051034315391671  At (gamma, c):  [8.50609007 1.64916364] .. Time =  0.13401246070861816\n",
      "AUC for particle - 38 is 0.8117093048839767  At (gamma, c):  [6.74458956 8.04538072] .. Time =  0.1429462432861328\n",
      "AUC for particle - 39 is 0.8067012123139224  At (gamma, c):  [7.91712489 1.90613392] .. Time =  0.1380019187927246\n",
      "AUC for particle - 40 is 0.8401564188312519  At (gamma, c):  [0.96563813 2.12009583] .. Time =  0.11799907684326172\n",
      "AUC for particle - 41 is 0.8839024154907186  At (gamma, c):  [0.32401709 1.01652321] .. Time =  0.115997314453125\n",
      "AUC for particle - 42 is 0.8228445146175747  At (gamma, c):  [2.55618187 0.4408555 ] .. Time =  0.1249992847442627\n",
      "AUC for particle - 43 is 0.8217874587458747  At (gamma, c):  [2.83914048 4.87872098] .. Time =  0.15703082084655762\n",
      "AUC for particle - 44 is 0.8509951938715467  At (gamma, c):  [0.49851589 9.12229775] .. Time =  0.13199901580810547\n",
      "AUC for particle - 45 is 0.8070974829044366  At (gamma, c):  [8.26889165 3.30517742] .. Time =  0.15099763870239258\n",
      "AUC for particle - 46 is 0.8228714084697506  At (gamma, c):  [2.47214898 1.88226484] .. Time =  0.135009765625\n",
      "AUC for particle - 47 is 0.7982862698229956  At (gamma, c):  [9.49756662 8.61828912] .. Time =  0.13399243354797363\n",
      "AUC for particle - 48 is 0.7946808036285354  At (gamma, c):  [9.72959606 7.55906268] .. Time =  0.14600181579589844\n",
      "AUC for particle - 49 is 0.8198464465715675  At (gamma, c):  [4.13165267 7.56943094] .. Time =  0.17999577522277832\n",
      "AUC for particle - 50 is 0.7991306338607282  At (gamma, c):  [9.31639302 7.91060582] .. Time =  0.13901185989379883\n",
      "AUC for particle - 51 is 0.8051417139056097  At (gamma, c):  [8.50156875 2.28194226] .. Time =  0.14500737190246582\n",
      "AUC for particle - 52 is 0.8151187746017127  At (gamma, c):  [5.84046643 1.57455601] .. Time =  0.137009859085083\n",
      "AUC for particle - 53 is 0.8697528575448907  At (gamma, c):  [0.5404424  0.73025534] .. Time =  0.11601090431213379\n",
      "AUC for particle - 54 is 0.8235329422643262  At (gamma, c):  [2.33902232 1.11528183] .. Time =  0.13650727272033691\n",
      "AUC for particle - 55 is 0.8201664331217176  At (gamma, c):  [3.63504343 3.77338183] .. Time =  0.1610121726989746\n",
      "AUC for particle - 56 is 0.8167158068630783  At (gamma, c):  [5.07986773 7.75044994] .. Time =  0.1569995880126953\n",
      "AUC for particle - 57 is 0.8000258851134282  At (gamma, c):  [9.10280078 9.33934538] .. Time =  0.14403796195983887\n",
      "AUC for particle - 58 is 0.8237368653808903  At (gamma, c):  [2.14063229 2.66692514] .. Time =  0.13499784469604492\n",
      "AUC for particle - 59 is 0.8055858104082834  At (gamma, c):  [6.22423128e+00 3.59869594e-03] .. Time =  0.1080019474029541\n",
      "AUC for particle - 60 is 0.8170840608313323  At (gamma, c):  [4.94869455 3.30017112] .. Time =  0.16499757766723633\n",
      "AUC for particle - 61 is 0.7992163415677115  At (gamma, c):  [9.48802136 8.86657226] .. Time =  0.15199494361877441\n",
      "AUC for particle - 62 is 0.7991050499069839  At (gamma, c):  [9.3499715  2.95899209] .. Time =  0.14401006698608398\n",
      "AUC for particle - 63 is 0.801533747793384  At (gamma, c):  [9.00584929 7.2750626 ] .. Time =  0.1540083885192871\n",
      "AUC for particle - 64 is 0.8201154523425765  At (gamma, c):  [3.61326964 9.80734634] .. Time =  0.1440110206604004\n",
      "AUC for particle - 65 is 0.8063940177406446  At (gamma, c):  [8.16867613 9.67667502] .. Time =  0.139984130859375\n",
      "AUC for particle - 66 is 0.8208049091952384  At (gamma, c):  [3.18721472 3.19563854] .. Time =  0.13799786567687988\n",
      "AUC for particle - 67 is 0.8194510180586164  At (gamma, c):  [4.30912275 1.07877825] .. Time =  0.14300537109375\n",
      "AUC for particle - 68 is 0.8144528432909736  At (gamma, c):  [6.08772017 8.04372861] .. Time =  0.1370086669921875\n",
      "AUC for particle - 69 is 0.8168930232558139  At (gamma, c):  [4.90891984 0.88267757] .. Time =  0.1360015869140625\n",
      "AUC for particle - 70 is 0.8193618484772065  At (gamma, c):  [4.47369676 3.62588019] .. Time =  0.15800738334655762\n",
      "AUC for particle - 71 is 0.8157720074997532  At (gamma, c):  [5.50534524 8.00140019] .. Time =  0.1600055694580078\n",
      "AUC for particle - 72 is 0.8106229224915847  At (gamma, c):  [7.17427808 3.76377157] .. Time =  0.1590104103088379\n"
     ]
    },
    {
     "name": "stdout",
     "output_type": "stream",
     "text": [
      "AUC for particle - 73 is 0.8107148989982055  At (gamma, c):  [6.92906179 7.38771581] .. Time =  0.13601279258728027\n",
      "AUC for particle - 74 is 0.838781434821223  At (gamma, c):  [0.93525499 5.53880305] .. Time =  0.11701607704162598\n",
      "AUC for particle - 75 is 0.8059976535859565  At (gamma, c):  [7.95467393 3.02322194] .. Time =  0.13949871063232422\n",
      "AUC for particle - 76 is 0.9136825411444799  At (gamma, c):  [0.05950763 2.78950888] .. Time =  0.10052156448364258\n",
      "AUC for particle - 77 is 0.8171478335873456  At (gamma, c):  [4.89275411 4.96033842] .. Time =  0.18199563026428223\n",
      "AUC for particle - 78 is 0.8077487509548297  At (gamma, c):  [7.72161301 4.89238084] .. Time =  0.1329965591430664\n",
      "AUC for particle - 79 is 0.7958723287611154  At (gamma, c):  [9.62325205 1.08714258] .. Time =  0.1309964656829834\n",
      "AUC for particle - 80 is 0.8162440943097632  At (gamma, c):  [5.29392848 4.58828815] .. Time =  0.13899445533752441\n",
      "AUC for particle - 81 is 0.8231243475178083  At (gamma, c):  [2.21055681 4.26310722] .. Time =  0.13099098205566406\n",
      "AUC for particle - 82 is 0.8309499906801312  At (gamma, c):  [1.44489618 2.86866677] .. Time =  0.12099742889404297\n",
      "AUC for particle - 83 is 0.8138779528451184  At (gamma, c):  [6.24777773 1.15978055] .. Time =  0.14503026008605957\n",
      "AUC for particle - 84 is 0.8109056558812027  At (gamma, c):  [6.97106222 6.3836409 ] .. Time =  0.14197397232055664\n",
      "AUC for particle - 85 is 0.8119612147261237  At (gamma, c):  [6.69005824 5.25232853] .. Time =  0.13799643516540527\n",
      "AUC for particle - 86 is 0.8123057560241073  At (gamma, c):  [6.64751527 2.54086732] .. Time =  0.13499879837036133\n",
      "AUC for particle - 87 is 0.8013178747775109  At (gamma, c):  [9.01522788 6.58578801] .. Time =  0.13501667976379395\n",
      "AUC for particle - 88 is 0.8201016311597936  At (gamma, c):  [3.96622641 5.02732734] .. Time =  0.1459968090057373\n",
      "AUC for particle - 89 is 0.8087077749635428  At (gamma, c):  [7.48903946 2.61747612] .. Time =  0.14001059532165527\n",
      "AUC for particle - 90 is 0.8531272173064482  At (gamma, c):  [0.68073272 2.03482778] .. Time =  0.12001371383666992\n",
      "AUC for particle - 91 is 0.8219148171295534  At (gamma, c):  [2.7182852  8.33985632] .. Time =  0.15301156044006348\n",
      "AUC for particle - 92 is 0.8273994349601073  At (gamma, c):  [1.52862741 8.71301911] .. Time =  0.12598633766174316\n",
      "AUC for particle - 93 is 0.8155159808339638  At (gamma, c):  [5.59469099 8.86650252] .. Time =  0.16500163078308105\n",
      "AUC for particle - 94 is 0.8166642646988951  At (gamma, c):  [5.0687943  1.09215408] .. Time =  0.15001177787780762\n",
      "AUC for particle - 95 is 0.7991944066167415  At (gamma, c):  [8.77410317 0.6171031 ] .. Time =  0.14501023292541504\n",
      "AUC for particle - 96 is 0.8218002507227467  At (gamma, c):  [2.81312462 3.29773965] .. Time =  0.14102911949157715\n",
      "AUC for particle - 97 is 0.8146063470134389  At (gamma, c):  [6.13427335 3.38907175] .. Time =  0.17700815200805664\n",
      "AUC for particle - 98 is 0.8176580156354506  At (gamma, c):  [4.66073777 9.64573637] .. Time =  0.14700937271118164\n",
      "AUC for particle - 99 is 0.7951796907265477  At (gamma, c):  [9.7144181  9.90782308] .. Time =  0.1419997215270996\n",
      "AUC for particle - 100 is 0.8220927820356788  At (gamma, c):  [2.7445733  0.81808521] .. Time =  0.13399553298950195\n"
     ]
    },
    {
     "name": "stderr",
     "output_type": "stream",
     "text": [
      "'c' argument looks like a single numeric RGB or RGBA sequence, which should be avoided as value-mapping will have precedence in case its length matches with 'x' & 'y'.  Please use a 2-D array with a single row if you really want to specify the same RGB or RGBA value for all points.\n"
     ]
    },
    {
     "name": "stdout",
     "output_type": "stream",
     "text": [
      "The best position in iteration number 1 is [0.05950763 2.78950888] with AUC: 0.9136825411444799\n",
      "16.171164751052856\n"
     ]
    },
    {
     "data": {
      "image/png": "[encoded data removed]",
      "text/plain": [
       "<Figure size 432x288 with 1 Axes>"
      ]
     },
     "metadata": {
      "needs_background": "light"
     },
     "output_type": "display_data"
    },
    {
     "name": "stdout",
     "output_type": "stream",
     "text": [
      "AUC for particle - 1 is 0.8194767891407081  At (gamma, c):  [4.32609892 5.01012837] .. Time =  0.16300678253173828\n",
      "AUC for particle - 2 is 0.8219657979086946  At (gamma, c):  [2.70370546 5.02081945] .. Time =  0.16300058364868164\n",
      "AUC for particle - 3 is 0.8383481917626977  At (gamma, c):  [0.98102482 3.00573246] .. Time =  0.13099980354309082\n",
      "AUC for particle - 4 is 0.8151945908212084  At (gamma, c):  [5.89342731 7.11636025] .. Time =  0.14499711990356445\n",
      "AUC for particle - 5 is 0.8241902656710853  At (gamma, c):  [1.79202072 8.45804999] .. Time =  0.16900014877319336\n",
      "AUC for particle - 6 is 0.8158359673841137  At (gamma, c):  [5.43224854 2.12619098] .. Time =  0.15999841690063477\n",
      "AUC for particle - 7 is 0.8265598426952331  At (gamma, c):  [1.57761422 6.7334836 ] .. Time =  0.1270158290863037\n",
      "AUC for particle - 8 is 0.8236558095676676  At (gamma, c):  [1.83768169 3.85270982] .. Time =  0.1310126781463623\n",
      "AUC for particle - 9 is 0.820050556816479  At (gamma, c):  [3.62165436 0.23793385] .. Time =  0.18599534034729004\n",
      "AUC for particle - 10 is 0.8391616386887858  At (gamma, c):  [0.90406743 5.8283342 ] .. Time =  0.1720263957977295\n",
      "AUC for particle - 11 is 0.8531134224385893  At (gamma, c):  [0.47435979 6.7096167 ] .. Time =  0.21699905395507812\n",
      "AUC for particle - 12 is 0.8201152652142291  At (gamma, c):  [3.64460792 9.72348369] .. Time =  0.1700000762939453\n",
      "AUC for particle - 13 is 0.9284261965066939  At (gamma, c):  [1.00000000e-03 1.75149336e+00] .. Time =  0.08899927139282227\n",
      "AUC for particle - 14 is 0.8155669616131048  At (gamma, c):  [5.64462178 2.75916545] .. Time =  0.1630101203918457\n",
      "AUC for particle - 15 is 0.8201662459933701  At (gamma, c):  [3.72357196 5.09437883] .. Time =  0.2069990634918213\n",
      "AUC for particle - 16 is 0.8146575149209273  At (gamma, c):  [6.08917362 6.03831081] .. Time =  0.14600110054016113\n",
      "AUC for particle - 17 is 0.8198466336999148  At (gamma, c):  [4.19960424 4.77882412] .. Time =  0.16899681091308594\n",
      "AUC for particle - 18 is 0.9258446498470444  At (gamma, c):  [1.00000000e-03 8.61728777e+00] .. Time =  0.07100176811218262\n",
      "AUC for particle - 19 is 0.8144144673603573  At (gamma, c):  [6.07938331 3.9423574 ] .. Time =  0.13701248168945312\n",
      "AUC for particle - 20 is 0.8255990672821435  At (gamma, c):  [1.81947446 2.43489183] .. Time =  0.12598276138305664\n",
      "AUC for particle - 21 is 0.926635319744599  At (gamma, c):  [1.00000000e-03 5.19345628e+00] .. Time =  0.0819997787475586\n",
      "AUC for particle - 22 is 0.8118470225760118  At (gamma, c):  [6.72048102 3.28284895] .. Time =  0.15201568603515625\n",
      "AUC for particle - 23 is 0.8176580156354506  At (gamma, c):  [4.64163683 6.75455844] .. Time =  0.14699816703796387\n",
      "AUC for particle - 24 is 0.817185273876225  At (gamma, c):  [4.82281328 8.95334086] .. Time =  0.14000344276428223\n",
      "AUC for particle - 25 is 0.8194767891407081  At (gamma, c):  [4.33434017 5.116925  ] .. Time =  0.14600038528442383\n",
      "AUC for particle - 26 is 0.8206260086473763  At (gamma, c):  [3.31413926 7.34416607] .. Time =  0.14301276206970215\n",
      "AUC for particle - 27 is 0.8182910649868974  At (gamma, c):  [2.32518317e+00 1.00000000e-03] .. Time =  0.09800028800964355\n",
      "AUC for particle - 28 is 0.8262543322770816  At (gamma, c):  [1.5927742  7.03229302] .. Time =  0.12501287460327148\n",
      "AUC for particle - 29 is 0.8106626083206327  At (gamma, c):  [7.04391722 8.45218079] .. Time =  0.13401341438293457\n",
      "AUC for particle - 30 is 0.8198720305253117  At (gamma, c):  [4.10208477 3.41728945] .. Time =  0.14403486251831055\n",
      "AUC for particle - 31 is 0.8443889462700422  At (gamma, c):  [1.09787283 0.17999991] .. Time =  0.10354185104370117\n",
      "AUC for particle - 32 is 0.9276142466073849  At (gamma, c):  [1.00000000e-03 1.13819255e+00] .. Time =  0.08073878288269043\n",
      "AUC for particle - 33 is 0.8190813606277572  At (gamma, c):  [4.54390224 2.70238875] .. Time =  0.14199590682983398\n",
      "AUC for particle - 34 is 0.819999576037338  At (gamma, c):  [4.05615056 4.59634105] .. Time =  0.1460127830505371\n",
      "AUC for particle - 35 is 0.8380921650969085  At (gamma, c):  [0.99291657 2.74442445] .. Time =  0.11700081825256348\n",
      "AUC for particle - 36 is 0.8217622490488252  At (gamma, c):  [2.86853836 2.72678594] .. Time =  0.13096117973327637\n",
      "AUC for particle - 37 is 0.806870502066818  At (gamma, c):  [7.77293858 1.64208565] .. Time =  0.12900137901306152\n",
      "AUC for particle - 38 is 0.8153874061160269  At (gamma, c):  [5.80369872 9.15699833] .. Time =  0.13599514961242676\n",
      "AUC for particle - 39 is 0.816741203688475  At (gamma, c):  [5.04431009 3.76442165] .. Time =  0.13900065422058105\n",
      "AUC for particle - 40 is 0.8706951598814365  At (gamma, c):  [0.45276503 1.1154538 ] .. Time =  0.13100147247314453\n",
      "AUC for particle - 41 is 0.9270429788493799  At (gamma, c):  [1.00000000e-03 3.06267667e+00] .. Time =  0.08499574661254883\n",
      "AUC for particle - 42 is 0.8540732885248657  At (gamma, c):  [0.90194071 0.05840639] .. Time =  0.14499902725219727\n",
      "AUC for particle - 43 is 0.8219913818624387  At (gamma, c):  [2.71274467 2.91635486] .. Time =  0.1950070858001709\n",
      "AUC for particle - 44 is 0.926612729844413  At (gamma, c):  [1.00000000e-03 6.69188831e+00] .. Time =  0.08400678634643555\n",
      "AUC for particle - 45 is 0.8201406620396258  At (gamma, c):  [3.55134095 2.41881714] .. Time =  0.19501519203186035\n",
      "AUC for particle - 46 is 0.8231755154252967  At (gamma, c):  [2.19007058 3.25382218] .. Time =  0.1679973602294922\n",
      "AUC for particle - 47 is 0.8060102584344814  At (gamma, c):  [8.12635542 6.7404244 ] .. Time =  0.18399882316589355\n",
      "AUC for particle - 48 is 0.8108672799505864  At (gamma, c):  [7.02364428 4.02296751] .. Time =  0.17899608612060547\n",
      "AUC for particle - 49 is 0.8199739920835937  At (gamma, c):  [3.98204332 5.92016487] .. Time =  0.1679975986480713\n",
      "AUC for particle - 50 is 0.8070845973633908  At (gamma, c):  [8.29493993 7.85617887] .. Time =  0.14099884033203125\n",
      "AUC for particle - 51 is 0.8060616134703172  At (gamma, c):  [7.85773109 1.00149434] .. Time =  0.14001154899597168\n",
      "AUC for particle - 52 is 0.8207281573340057  At (gamma, c):  [3.30252982 3.88652921] .. Time =  0.14343523979187012\n",
      "AUC for particle - 53 is 0.8750335785738041  At (gamma, c):  [0.33129022 1.75693645] .. Time =  0.12999796867370605\n",
      "AUC for particle - 54 is 0.826291143931669  At (gamma, c):  [2.05334085 0.11765791] .. Time =  0.1360001564025879\n"
     ]
    }
   ],
   "source": [
    "start = time()\n",
    "while iteration < n_iterations:\n",
    "    gbest_fitness_value_cadidate = np.array([0])\n",
    "    gbest_position_cadidate = np.array([float('inf'), float('inf')])\n",
    "    start1 = time()\n",
    "    plot(particle_position_vector)\n",
    "    \n",
    "    for i in range(n_particles):\n",
    "        start2 = time()\n",
    "        fitness_cadidate = fitness_function(particle_position_vector[i])\n",
    "        stop2 = time()\n",
    "        print(\"AUC for particle -\", i+1,\"is\", fitness_cadidate, \" At (gamma, c): \", particle_position_vector[i], \".. Time = \", stop2 - start2)\n",
    "        \n",
    "        if(pbest_fitness_value[i] < fitness_cadidate):\n",
    "            pbest_fitness_value[i] = fitness_cadidate\n",
    "            pbest_position[i] = particle_position_vector[i]\n",
    "\n",
    "        if(gbest_fitness_value_cadidate < fitness_cadidate):\n",
    "            gbest_fitness_value_cadidate = fitness_cadidate\n",
    "            gbest_position_cadidate = particle_position_vector[i]\n",
    "        \n",
    "    print(\"The best position in iteration number\", iteration + 1, \"is\", gbest_position_cadidate, \"with AUC:\", fitness_function(gbest_position_cadidate))\n",
    "    \n",
    "   # if(gbest_fitness_value < gbest_fitness_value_cadidate):\n",
    "    #    gbest_fitness_value = gbest_fitness_value_cadidate\n",
    "     #   gbest_position = gbest_position_cadidate\n",
    "    #print(\"The best position so far is \", gbest_position, \"in iteration number\", iteration + 1, \"with AUC:\", fitness_function(gbest_position))\n",
    "    \n",
    "    for i in range(n_particles):\n",
    "        new_velocity = w*velocity_vector[i] + (c1*random.random()) * (pbest_position[i] - particle_position_vector[i]) + (c2*random.random()) * (gbest_position_cadidate-particle_position_vector[i])\n",
    "        new_velocity = eval_velocity(new_velocity)\n",
    "            \n",
    "        particle_position_vector[i] = new_velocity + particle_position_vector[i]\n",
    "        particle_position_vector[i] = eval_position(particle_position_vector[i])\n",
    "    w = (wmax - wmin)*(n_iterations - iteration)/n_iterations + wmin\n",
    "    iteration = iteration + 1\n",
    "    stop1 = time()\n",
    "    sec = stop1-start1\n",
    "    print(sec)\n",
    "stop = time()\n",
    "print(stop - start)\n"
   ]
  }
 ],
 "metadata": {
  "kernelspec": {
   "display_name": "Python 3",
   "language": "python",
   "name": "python3"
  },
  "language_info": {
   "codemirror_mode": {
    "name": "ipython",
    "version": 3
   },
   "file_extension": ".py",
   "mimetype": "text/x-python",
   "name": "python",
   "nbconvert_exporter": "python",
   "pygments_lexer": "ipython3",
   "version": "3.6.8"
  }
 },
 "nbformat": 4,
 "nbformat_minor": 2
}
